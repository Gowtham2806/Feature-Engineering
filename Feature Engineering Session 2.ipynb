{
 "cells": [
  {
   "cell_type": "code",
   "execution_count": 1,
   "id": "129e3f9d",
   "metadata": {},
   "outputs": [],
   "source": [
    "import pandas as pd\n",
    "import numpy as np\n",
    "\n",
    "import matplotlib.pyplot as plt"
   ]
  },
  {
   "cell_type": "markdown",
   "id": "a213b699",
   "metadata": {},
   "source": [
    "### Random Sample Imputation for Missing Values\n",
    "\n",
    "##### Aim: Random Sample Imputation consists of taking random observation from the dataset and we use this observation to replace the NAN values"
   ]
  },
  {
   "cell_type": "code",
   "execution_count": 2,
   "id": "19b3f25a",
   "metadata": {},
   "outputs": [],
   "source": [
    "df = pd.read_csv('./CSV Files/titanic_train.csv', usecols=['age', 'fare', 'survived'])"
   ]
  },
  {
   "cell_type": "code",
   "execution_count": 3,
   "id": "5dcc1e80",
   "metadata": {},
   "outputs": [
    {
     "data": {
      "text/html": [
       "<div>\n",
       "<style scoped>\n",
       "    .dataframe tbody tr th:only-of-type {\n",
       "        vertical-align: middle;\n",
       "    }\n",
       "\n",
       "    .dataframe tbody tr th {\n",
       "        vertical-align: top;\n",
       "    }\n",
       "\n",
       "    .dataframe thead th {\n",
       "        text-align: right;\n",
       "    }\n",
       "</style>\n",
       "<table border=\"1\" class=\"dataframe\">\n",
       "  <thead>\n",
       "    <tr style=\"text-align: right;\">\n",
       "      <th></th>\n",
       "      <th>age</th>\n",
       "      <th>fare</th>\n",
       "      <th>survived</th>\n",
       "    </tr>\n",
       "  </thead>\n",
       "  <tbody>\n",
       "    <tr>\n",
       "      <th>0</th>\n",
       "      <td>NaN</td>\n",
       "      <td>7.7333</td>\n",
       "      <td>1</td>\n",
       "    </tr>\n",
       "    <tr>\n",
       "      <th>1</th>\n",
       "      <td>38.0</td>\n",
       "      <td>8.6625</td>\n",
       "      <td>0</td>\n",
       "    </tr>\n",
       "    <tr>\n",
       "      <th>2</th>\n",
       "      <td>30.0</td>\n",
       "      <td>24.1500</td>\n",
       "      <td>0</td>\n",
       "    </tr>\n",
       "    <tr>\n",
       "      <th>3</th>\n",
       "      <td>54.0</td>\n",
       "      <td>23.0000</td>\n",
       "      <td>1</td>\n",
       "    </tr>\n",
       "    <tr>\n",
       "      <th>4</th>\n",
       "      <td>40.0</td>\n",
       "      <td>13.0000</td>\n",
       "      <td>0</td>\n",
       "    </tr>\n",
       "  </tbody>\n",
       "</table>\n",
       "</div>"
      ],
      "text/plain": [
       "    age     fare  survived\n",
       "0   NaN   7.7333         1\n",
       "1  38.0   8.6625         0\n",
       "2  30.0  24.1500         0\n",
       "3  54.0  23.0000         1\n",
       "4  40.0  13.0000         0"
      ]
     },
     "execution_count": 3,
     "metadata": {},
     "output_type": "execute_result"
    }
   ],
   "source": [
    "df.head()"
   ]
  },
  {
   "cell_type": "code",
   "execution_count": 4,
   "id": "e1253852",
   "metadata": {},
   "outputs": [
    {
     "data": {
      "text/plain": [
       "age         174\n",
       "fare          1\n",
       "survived      0\n",
       "dtype: int64"
      ]
     },
     "execution_count": 4,
     "metadata": {},
     "output_type": "execute_result"
    }
   ],
   "source": [
    "df.isnull().sum()"
   ]
  },
  {
   "cell_type": "code",
   "execution_count": 5,
   "id": "877620c3",
   "metadata": {},
   "outputs": [
    {
     "data": {
      "text/plain": [
       "13.0000     42\n",
       "8.0500      40\n",
       "7.7500      39\n",
       "7.8958      32\n",
       "26.0000     29\n",
       "            ..\n",
       "247.5208     1\n",
       "11.1333      1\n",
       "39.4000      1\n",
       "7.1417       1\n",
       "25.7417      1\n",
       "Name: fare, Length: 236, dtype: int64"
      ]
     },
     "execution_count": 5,
     "metadata": {},
     "output_type": "execute_result"
    }
   ],
   "source": [
    "df.fare.value_counts()"
   ]
  },
  {
   "cell_type": "code",
   "execution_count": 6,
   "id": "f0abd8ed",
   "metadata": {},
   "outputs": [
    {
     "data": {
      "text/plain": [
       "array([  7.7333,   8.6625,  24.15  ,  23.    ,  13.    ,  22.525 ,\n",
       "         0.    ,   7.775 ,   9.825 , 211.5   ,  76.2917,  83.1583,\n",
       "        20.25  ,   7.8542,  16.    ,  23.25  ,  55.    ,   8.4583,\n",
       "        65.    ,   7.8958,   8.05  ,  26.    ,   7.75  ,  21.    ,\n",
       "         7.2292,  52.    ,  25.925 ,   8.1583,  11.5   ,   7.925 ,\n",
       "       262.375 ,   7.55  ,   7.25  ,  15.1   , 134.5   ,  30.5   ,\n",
       "        83.475 ,  15.5792,  69.55  , 153.4625,   7.125 ,  79.2   ,\n",
       "        10.5   , 120.    , 512.3292,  25.4667,  20.575 ,   9.4833,\n",
       "        60.    ,  20.525 ,   9.2167,  14.1083, 106.425 ,  26.55  ,\n",
       "        14.4542,   7.4958,  10.1708,   7.05  , 110.8833,  21.6792,\n",
       "        32.5   ,  14.4583,  80.    ,   9.5   ,  36.75  , 108.9   ,\n",
       "         7.7958,   7.225 ,  25.9292, 164.8667,  26.2875,  46.9   ,\n",
       "        27.7208,   6.4375,  10.7083,  23.45  ,  15.7417,  29.7   ,\n",
       "        14.    ,  27.75  ,   7.7417,   9.    ,  13.775 , 211.3375,\n",
       "         8.1125,  12.875 ,  56.4958,  30.    , 151.55  ,  31.275 ,\n",
       "         6.45  ,  15.0458,  42.4   ,  18.75  ,   4.0125,   6.2375,\n",
       "        14.5   ,  15.9   ,   7.8292,  21.075 ,  29.125 ,  22.3583,\n",
       "        38.5   ,  69.3   ,  27.9   ,  57.9792,  16.1   ,  59.4   ,\n",
       "        15.85  ,  75.2417,  91.0792,  47.1   , 135.6333,  33.5   ,\n",
       "        18.    ,  16.7   ,  52.5542, 263.    , 227.525 ,  39.6   ,\n",
       "        93.5   ,  61.3792,  12.7375,  24.    ,  56.9292,  13.5   ,\n",
       "        12.1833,  39.6875,   9.325 ,  57.75  ,  15.55  ,  31.5   ,\n",
       "        10.4625,  26.25  ,  31.3875,  31.    ,  77.2875,  41.5792,\n",
       "         8.5167,  28.5   ,   7.65  ,  86.5   ,   6.8583,  28.7125,\n",
       "         7.85  ,   7.8792,  27.    ,   9.6875, 113.275 ,  53.1   ,\n",
       "         7.0542,  15.0333,  30.6958,  19.5   ,  20.2125,   8.7125,\n",
       "        26.2833,  76.7292, 146.5208,  15.5   ,   6.75  ,  31.6792,\n",
       "        30.0708,  34.375 , 247.5208,  81.8583,   9.225 ,      nan,\n",
       "        11.1333,  13.9   ,  73.5   ,  78.2667,  22.025 ,   9.35  ,\n",
       "        25.7417,  35.5   ,  17.8   ,   8.9625, 221.7792,  39.    ,\n",
       "        12.475 ,  71.2833,   9.8375,   9.475 ,  10.5167,   7.8   ,\n",
       "        15.2458,  71.    ,   8.3625,   7.7375,  14.4   ,  61.9792,\n",
       "         6.95  ,  45.5   ,   7.1417,  12.35  ,  13.4167,  90.    ,\n",
       "        49.5   ,  37.0042,  11.2417,  51.8625,   7.7792,  50.    ,\n",
       "         8.4333,  33.    ,  13.8625,  25.7   ,  15.75  ,   7.    ,\n",
       "         7.0458,   3.1708,  29.    ,  55.4417,   7.5792,   8.4042,\n",
       "        82.1708,  17.4   ,  12.2875,  50.4958,  66.6   ,  39.4   ,\n",
       "        55.9   ,  51.4792,  57.    ,   7.6292,  78.85  ,  77.9583,\n",
       "         9.8417,  75.25  ,  13.7917,   7.7292,  18.7875,   7.8208,\n",
       "        31.6833,  61.175 ,   6.4958])"
      ]
     },
     "execution_count": 6,
     "metadata": {},
     "output_type": "execute_result"
    }
   ],
   "source": [
    "df.fare.unique()"
   ]
  },
  {
   "cell_type": "code",
   "execution_count": 7,
   "id": "c70a4dc1",
   "metadata": {},
   "outputs": [
    {
     "data": {
      "text/plain": [
       "236"
      ]
     },
     "execution_count": 7,
     "metadata": {},
     "output_type": "execute_result"
    }
   ],
   "source": [
    "df.fare.nunique()"
   ]
  },
  {
   "cell_type": "code",
   "execution_count": 8,
   "id": "9261c6b8",
   "metadata": {},
   "outputs": [
    {
     "data": {
      "text/plain": [
       "13.0"
      ]
     },
     "execution_count": 8,
     "metadata": {},
     "output_type": "execute_result"
    }
   ],
   "source": [
    "df.fare.value_counts().index[0]"
   ]
  },
  {
   "cell_type": "code",
   "execution_count": 9,
   "id": "eb97257b",
   "metadata": {},
   "outputs": [],
   "source": [
    "df.fare.fillna(df.fare.value_counts().index[0], inplace=True)"
   ]
  },
  {
   "cell_type": "code",
   "execution_count": 10,
   "id": "a29a85e1",
   "metadata": {},
   "outputs": [
    {
     "data": {
      "text/plain": [
       "age         174\n",
       "fare          0\n",
       "survived      0\n",
       "dtype: int64"
      ]
     },
     "execution_count": 10,
     "metadata": {},
     "output_type": "execute_result"
    }
   ],
   "source": [
    "df.isnull().sum()"
   ]
  },
  {
   "cell_type": "code",
   "execution_count": 11,
   "id": "8a51928d",
   "metadata": {},
   "outputs": [
    {
     "data": {
      "text/plain": [
       "age         0.204706\n",
       "fare        0.000000\n",
       "survived    0.000000\n",
       "dtype: float64"
      ]
     },
     "execution_count": 11,
     "metadata": {},
     "output_type": "execute_result"
    }
   ],
   "source": [
    "## Percentage of Null Values\n",
    "\n",
    "df.isnull().mean()"
   ]
  },
  {
   "cell_type": "code",
   "execution_count": 12,
   "id": "80070fef",
   "metadata": {},
   "outputs": [],
   "source": [
    "median = df.age.median()"
   ]
  },
  {
   "cell_type": "code",
   "execution_count": 13,
   "id": "e9395b26",
   "metadata": {},
   "outputs": [
    {
     "data": {
      "text/plain": [
       "28.0"
      ]
     },
     "execution_count": 13,
     "metadata": {},
     "output_type": "execute_result"
    }
   ],
   "source": [
    "median"
   ]
  },
  {
   "cell_type": "code",
   "execution_count": 14,
   "id": "9703b24d",
   "metadata": {},
   "outputs": [],
   "source": [
    "random_sam = df.age.dropna().sample(df.age.isnull().sum(), random_state=0)"
   ]
  },
  {
   "cell_type": "code",
   "execution_count": 15,
   "id": "b3db28ef",
   "metadata": {},
   "outputs": [
    {
     "data": {
      "text/plain": [
       "Int64Index([716,  39, 446, 240, 508, 386, 420,  15, 313, 222,\n",
       "            ...\n",
       "            607,  82, 436, 642, 788, 801, 669, 768,  16, 250],\n",
       "           dtype='int64', length=174)"
      ]
     },
     "execution_count": 15,
     "metadata": {},
     "output_type": "execute_result"
    }
   ],
   "source": [
    "random_sam.index"
   ]
  },
  {
   "cell_type": "code",
   "execution_count": 16,
   "id": "02fc45c8",
   "metadata": {},
   "outputs": [],
   "source": [
    "index = df[df.age.isnull()].index"
   ]
  },
  {
   "cell_type": "code",
   "execution_count": 17,
   "id": "83fc4bac",
   "metadata": {},
   "outputs": [
    {
     "data": {
      "text/plain": [
       "Int64Index([  0,  17,  21,  28,  30,  31,  33,  38,  41,  46,\n",
       "            ...\n",
       "            763, 778, 780, 787, 794, 814, 820, 821, 828, 836],\n",
       "           dtype='int64', length=174)"
      ]
     },
     "execution_count": 17,
     "metadata": {},
     "output_type": "execute_result"
    }
   ],
   "source": [
    "index"
   ]
  },
  {
   "cell_type": "code",
   "execution_count": 18,
   "id": "7408a759",
   "metadata": {},
   "outputs": [
    {
     "data": {
      "text/plain": [
       "Int64Index([  0,  17,  21,  28,  30,  31,  33,  38,  41,  46,\n",
       "            ...\n",
       "            763, 778, 780, 787, 794, 814, 820, 821, 828, 836],\n",
       "           dtype='int64', length=174)"
      ]
     },
     "execution_count": 18,
     "metadata": {},
     "output_type": "execute_result"
    }
   ],
   "source": [
    "random_sam.index = index\n",
    "random_sam.index"
   ]
  },
  {
   "cell_type": "code",
   "execution_count": 19,
   "id": "d301be9f",
   "metadata": {},
   "outputs": [
    {
     "data": {
      "text/plain": [
       "0      27.0\n",
       "17     29.0\n",
       "21     25.0\n",
       "28      8.0\n",
       "30     32.0\n",
       "       ... \n",
       "814    47.0\n",
       "820     9.0\n",
       "821    21.0\n",
       "828    40.0\n",
       "836    48.0\n",
       "Name: age, Length: 174, dtype: float64"
      ]
     },
     "execution_count": 19,
     "metadata": {},
     "output_type": "execute_result"
    }
   ],
   "source": [
    "random_sam"
   ]
  },
  {
   "cell_type": "code",
   "execution_count": 20,
   "id": "b65c19a9",
   "metadata": {},
   "outputs": [
    {
     "data": {
      "text/plain": [
       "array([27.    , 29.    , 25.    ,  8.    , 32.    , 19.    ,  9.    ,\n",
       "       48.    , 34.    , 31.    , 29.    , 50.    , 22.    , 28.    ,\n",
       "       42.    , 59.    , 60.5   , 38.    , 15.    ,  0.8333, 18.    ,\n",
       "       18.    , 64.    ,  0.4167,  6.    ,  9.    , 51.    , 21.    ,\n",
       "       37.    , 51.    , 32.    , 43.    , 20.    , 24.    , 16.    ,\n",
       "       55.    , 29.    , 18.    , 33.    , 50.    , 22.    , 28.    ,\n",
       "       39.    , 28.    , 16.    , 27.    , 29.    , 50.    , 31.    ,\n",
       "       14.    , 25.    , 41.    , 32.    , 63.    , 16.    , 54.    ,\n",
       "       16.    , 22.    , 48.    , 21.    , 32.5   , 17.    , 31.    ,\n",
       "       39.    , 47.    , 41.    ,  1.    , 32.    , 60.    ,  1.    ,\n",
       "       28.    , 18.    , 45.    , 22.    , 22.    , 22.    , 62.    ,\n",
       "       22.    ,  3.    , 27.    , 24.    , 21.    , 36.    , 18.    ,\n",
       "       20.    , 32.    , 58.    , 30.    , 46.    , 25.    , 28.    ,\n",
       "       29.    , 32.    , 50.    , 36.    , 25.    , 22.    , 36.    ,\n",
       "       25.    , 57.    , 40.    , 35.    , 60.    , 70.    ,  3.    ,\n",
       "        7.    , 36.    , 22.    , 36.    , 24.    , 32.    , 20.    ,\n",
       "       28.5   , 28.    , 29.    , 25.    , 40.5   , 28.    ,  0.8333,\n",
       "       30.    , 22.    , 30.    , 36.    , 19.    , 35.    , 48.    ,\n",
       "       19.    , 14.    , 18.    , 23.    , 31.    ,  7.    , 40.    ,\n",
       "       16.    , 24.    , 30.    , 28.    , 18.    , 32.    , 20.    ,\n",
       "       40.    , 47.    , 24.    , 24.    , 36.    , 16.    , 30.    ,\n",
       "       24.    , 27.    , 43.    ,  2.    , 32.    , 27.    ,  3.    ,\n",
       "       18.    , 30.    , 50.    , 20.    , 26.    , 29.    , 24.    ,\n",
       "       13.    , 14.5   , 24.    , 31.    , 42.    , 45.    , 24.    ,\n",
       "       24.    , 47.    ,  9.    , 21.    , 40.    , 48.    ])"
      ]
     },
     "execution_count": 20,
     "metadata": {},
     "output_type": "execute_result"
    }
   ],
   "source": [
    "random_sam.values"
   ]
  },
  {
   "cell_type": "code",
   "execution_count": 21,
   "id": "30e687af",
   "metadata": {},
   "outputs": [
    {
     "data": {
      "text/plain": [
       "0       True\n",
       "1      False\n",
       "2      False\n",
       "3      False\n",
       "4      False\n",
       "       ...  \n",
       "845    False\n",
       "846    False\n",
       "847    False\n",
       "848    False\n",
       "849    False\n",
       "Name: age, Length: 850, dtype: bool"
      ]
     },
     "execution_count": 21,
     "metadata": {},
     "output_type": "execute_result"
    }
   ],
   "source": [
    "df.age.isnull()"
   ]
  },
  {
   "cell_type": "code",
   "execution_count": 22,
   "id": "0fcd0649",
   "metadata": {},
   "outputs": [
    {
     "data": {
      "text/plain": [
       "(174,)"
      ]
     },
     "execution_count": 22,
     "metadata": {},
     "output_type": "execute_result"
    }
   ],
   "source": [
    "random_sam.shape"
   ]
  },
  {
   "cell_type": "code",
   "execution_count": 23,
   "id": "71ac1aaf",
   "metadata": {},
   "outputs": [],
   "source": [
    "def impute_nan(df, variable, median):\n",
    "    df[variable+'_median'] = df[variable].fillna(median)\n",
    "    df[variable+'_random'] = df[variable]\n",
    "    \n",
    "    ## It will have the random sample to fill the NAN values\n",
    "    random_sample = df[variable].dropna().sample(df[variable].isnull().sum(), random_state=0)\n",
    "    ## Pandas need to have same index in order to merge the dataser\n",
    "    random_sample.index = df[df[variable].isnull()].index\n",
    "    \n",
    "    df.loc[df[variable].isnull(), variable+'_random'] = random_sample"
   ]
  },
  {
   "cell_type": "code",
   "execution_count": 24,
   "id": "9a0266c6",
   "metadata": {},
   "outputs": [],
   "source": [
    "impute_nan(df, 'age', median)"
   ]
  },
  {
   "cell_type": "code",
   "execution_count": 25,
   "id": "23548374",
   "metadata": {},
   "outputs": [
    {
     "data": {
      "text/html": [
       "<div>\n",
       "<style scoped>\n",
       "    .dataframe tbody tr th:only-of-type {\n",
       "        vertical-align: middle;\n",
       "    }\n",
       "\n",
       "    .dataframe tbody tr th {\n",
       "        vertical-align: top;\n",
       "    }\n",
       "\n",
       "    .dataframe thead th {\n",
       "        text-align: right;\n",
       "    }\n",
       "</style>\n",
       "<table border=\"1\" class=\"dataframe\">\n",
       "  <thead>\n",
       "    <tr style=\"text-align: right;\">\n",
       "      <th></th>\n",
       "      <th>age</th>\n",
       "      <th>fare</th>\n",
       "      <th>survived</th>\n",
       "      <th>age_median</th>\n",
       "      <th>age_random</th>\n",
       "    </tr>\n",
       "  </thead>\n",
       "  <tbody>\n",
       "    <tr>\n",
       "      <th>0</th>\n",
       "      <td>NaN</td>\n",
       "      <td>7.7333</td>\n",
       "      <td>1</td>\n",
       "      <td>28.0</td>\n",
       "      <td>27.0</td>\n",
       "    </tr>\n",
       "    <tr>\n",
       "      <th>1</th>\n",
       "      <td>38.0</td>\n",
       "      <td>8.6625</td>\n",
       "      <td>0</td>\n",
       "      <td>38.0</td>\n",
       "      <td>38.0</td>\n",
       "    </tr>\n",
       "    <tr>\n",
       "      <th>2</th>\n",
       "      <td>30.0</td>\n",
       "      <td>24.1500</td>\n",
       "      <td>0</td>\n",
       "      <td>30.0</td>\n",
       "      <td>30.0</td>\n",
       "    </tr>\n",
       "    <tr>\n",
       "      <th>3</th>\n",
       "      <td>54.0</td>\n",
       "      <td>23.0000</td>\n",
       "      <td>1</td>\n",
       "      <td>54.0</td>\n",
       "      <td>54.0</td>\n",
       "    </tr>\n",
       "    <tr>\n",
       "      <th>4</th>\n",
       "      <td>40.0</td>\n",
       "      <td>13.0000</td>\n",
       "      <td>0</td>\n",
       "      <td>40.0</td>\n",
       "      <td>40.0</td>\n",
       "    </tr>\n",
       "  </tbody>\n",
       "</table>\n",
       "</div>"
      ],
      "text/plain": [
       "    age     fare  survived  age_median  age_random\n",
       "0   NaN   7.7333         1        28.0        27.0\n",
       "1  38.0   8.6625         0        38.0        38.0\n",
       "2  30.0  24.1500         0        30.0        30.0\n",
       "3  54.0  23.0000         1        54.0        54.0\n",
       "4  40.0  13.0000         0        40.0        40.0"
      ]
     },
     "execution_count": 25,
     "metadata": {},
     "output_type": "execute_result"
    }
   ],
   "source": [
    "df.head()"
   ]
  },
  {
   "cell_type": "code",
   "execution_count": 26,
   "id": "aadc62f7",
   "metadata": {},
   "outputs": [
    {
     "data": {
      "text/plain": [
       "<matplotlib.legend.Legend at 0x2797cd97490>"
      ]
     },
     "execution_count": 26,
     "metadata": {},
     "output_type": "execute_result"
    },
    {
     "data": {
      "image/png": "[encoded data removed]",
      "text/plain": [
       "<Figure size 432x288 with 1 Axes>"
      ]
     },
     "metadata": {
      "needs_background": "light"
     },
     "output_type": "display_data"
    }
   ],
   "source": [
    "fig = plt.figure()\n",
    "ax = fig.add_subplot(111)\n",
    "df.age_median.plot(kind='kde', ax=ax)\n",
    "df.age_random.plot(kind='kde', ax=ax, color='red')\n",
    "df.age.plot(kind='kde', ax=ax, color='green')\n",
    "lines, labels = ax.get_legend_handles_labels()\n",
    "ax.legend(lines, labels, loc='best')"
   ]
  },
  {
   "cell_type": "markdown",
   "id": "8af78f89",
   "metadata": {},
   "source": [
    "### Capturing NAN Values for Missing Values"
   ]
  },
  {
   "cell_type": "code",
   "execution_count": 27,
   "id": "69a8d6b8",
   "metadata": {},
   "outputs": [],
   "source": [
    "df = pd.read_csv('./CSV Files/titanic_train.csv', usecols=['age', 'fare', 'survived'])"
   ]
  },
  {
   "cell_type": "code",
   "execution_count": 28,
   "id": "552ca143",
   "metadata": {},
   "outputs": [
    {
     "data": {
      "text/html": [
       "<div>\n",
       "<style scoped>\n",
       "    .dataframe tbody tr th:only-of-type {\n",
       "        vertical-align: middle;\n",
       "    }\n",
       "\n",
       "    .dataframe tbody tr th {\n",
       "        vertical-align: top;\n",
       "    }\n",
       "\n",
       "    .dataframe thead th {\n",
       "        text-align: right;\n",
       "    }\n",
       "</style>\n",
       "<table border=\"1\" class=\"dataframe\">\n",
       "  <thead>\n",
       "    <tr style=\"text-align: right;\">\n",
       "      <th></th>\n",
       "      <th>age</th>\n",
       "      <th>fare</th>\n",
       "      <th>survived</th>\n",
       "    </tr>\n",
       "  </thead>\n",
       "  <tbody>\n",
       "    <tr>\n",
       "      <th>0</th>\n",
       "      <td>NaN</td>\n",
       "      <td>7.7333</td>\n",
       "      <td>1</td>\n",
       "    </tr>\n",
       "    <tr>\n",
       "      <th>1</th>\n",
       "      <td>38.0</td>\n",
       "      <td>8.6625</td>\n",
       "      <td>0</td>\n",
       "    </tr>\n",
       "    <tr>\n",
       "      <th>2</th>\n",
       "      <td>30.0</td>\n",
       "      <td>24.1500</td>\n",
       "      <td>0</td>\n",
       "    </tr>\n",
       "    <tr>\n",
       "      <th>3</th>\n",
       "      <td>54.0</td>\n",
       "      <td>23.0000</td>\n",
       "      <td>1</td>\n",
       "    </tr>\n",
       "    <tr>\n",
       "      <th>4</th>\n",
       "      <td>40.0</td>\n",
       "      <td>13.0000</td>\n",
       "      <td>0</td>\n",
       "    </tr>\n",
       "  </tbody>\n",
       "</table>\n",
       "</div>"
      ],
      "text/plain": [
       "    age     fare  survived\n",
       "0   NaN   7.7333         1\n",
       "1  38.0   8.6625         0\n",
       "2  30.0  24.1500         0\n",
       "3  54.0  23.0000         1\n",
       "4  40.0  13.0000         0"
      ]
     },
     "execution_count": 28,
     "metadata": {},
     "output_type": "execute_result"
    }
   ],
   "source": [
    "df.head()"
   ]
  },
  {
   "cell_type": "code",
   "execution_count": 29,
   "id": "2795d07b",
   "metadata": {},
   "outputs": [],
   "source": [
    "df.fare.fillna(df.fare.value_counts().index[0], inplace=True)"
   ]
  },
  {
   "cell_type": "code",
   "execution_count": 30,
   "id": "e22b7fd2",
   "metadata": {},
   "outputs": [],
   "source": [
    "df['age_nan'] = np.where(df.age.isnull(), 1, 0)"
   ]
  },
  {
   "cell_type": "code",
   "execution_count": 31,
   "id": "29929d22",
   "metadata": {},
   "outputs": [
    {
     "data": {
      "text/html": [
       "<div>\n",
       "<style scoped>\n",
       "    .dataframe tbody tr th:only-of-type {\n",
       "        vertical-align: middle;\n",
       "    }\n",
       "\n",
       "    .dataframe tbody tr th {\n",
       "        vertical-align: top;\n",
       "    }\n",
       "\n",
       "    .dataframe thead th {\n",
       "        text-align: right;\n",
       "    }\n",
       "</style>\n",
       "<table border=\"1\" class=\"dataframe\">\n",
       "  <thead>\n",
       "    <tr style=\"text-align: right;\">\n",
       "      <th></th>\n",
       "      <th>age</th>\n",
       "      <th>fare</th>\n",
       "      <th>survived</th>\n",
       "      <th>age_nan</th>\n",
       "    </tr>\n",
       "  </thead>\n",
       "  <tbody>\n",
       "    <tr>\n",
       "      <th>0</th>\n",
       "      <td>NaN</td>\n",
       "      <td>7.7333</td>\n",
       "      <td>1</td>\n",
       "      <td>1</td>\n",
       "    </tr>\n",
       "    <tr>\n",
       "      <th>1</th>\n",
       "      <td>38.0</td>\n",
       "      <td>8.6625</td>\n",
       "      <td>0</td>\n",
       "      <td>0</td>\n",
       "    </tr>\n",
       "    <tr>\n",
       "      <th>2</th>\n",
       "      <td>30.0</td>\n",
       "      <td>24.1500</td>\n",
       "      <td>0</td>\n",
       "      <td>0</td>\n",
       "    </tr>\n",
       "    <tr>\n",
       "      <th>3</th>\n",
       "      <td>54.0</td>\n",
       "      <td>23.0000</td>\n",
       "      <td>1</td>\n",
       "      <td>0</td>\n",
       "    </tr>\n",
       "    <tr>\n",
       "      <th>4</th>\n",
       "      <td>40.0</td>\n",
       "      <td>13.0000</td>\n",
       "      <td>0</td>\n",
       "      <td>0</td>\n",
       "    </tr>\n",
       "  </tbody>\n",
       "</table>\n",
       "</div>"
      ],
      "text/plain": [
       "    age     fare  survived  age_nan\n",
       "0   NaN   7.7333         1        1\n",
       "1  38.0   8.6625         0        0\n",
       "2  30.0  24.1500         0        0\n",
       "3  54.0  23.0000         1        0\n",
       "4  40.0  13.0000         0        0"
      ]
     },
     "execution_count": 31,
     "metadata": {},
     "output_type": "execute_result"
    }
   ],
   "source": [
    "df.head()"
   ]
  },
  {
   "cell_type": "code",
   "execution_count": 32,
   "id": "ecf83d25",
   "metadata": {},
   "outputs": [],
   "source": [
    "median = df.age.median()"
   ]
  },
  {
   "cell_type": "code",
   "execution_count": 33,
   "id": "b19e6bbb",
   "metadata": {},
   "outputs": [
    {
     "data": {
      "text/plain": [
       "28.0"
      ]
     },
     "execution_count": 33,
     "metadata": {},
     "output_type": "execute_result"
    }
   ],
   "source": [
    "median"
   ]
  },
  {
   "cell_type": "code",
   "execution_count": 34,
   "id": "b13eb63a",
   "metadata": {},
   "outputs": [],
   "source": [
    "df.age.fillna(median, inplace=True)"
   ]
  },
  {
   "cell_type": "code",
   "execution_count": 35,
   "id": "6b960e5a",
   "metadata": {},
   "outputs": [
    {
     "data": {
      "text/html": [
       "<div>\n",
       "<style scoped>\n",
       "    .dataframe tbody tr th:only-of-type {\n",
       "        vertical-align: middle;\n",
       "    }\n",
       "\n",
       "    .dataframe tbody tr th {\n",
       "        vertical-align: top;\n",
       "    }\n",
       "\n",
       "    .dataframe thead th {\n",
       "        text-align: right;\n",
       "    }\n",
       "</style>\n",
       "<table border=\"1\" class=\"dataframe\">\n",
       "  <thead>\n",
       "    <tr style=\"text-align: right;\">\n",
       "      <th></th>\n",
       "      <th>age</th>\n",
       "      <th>fare</th>\n",
       "      <th>survived</th>\n",
       "      <th>age_nan</th>\n",
       "    </tr>\n",
       "  </thead>\n",
       "  <tbody>\n",
       "    <tr>\n",
       "      <th>0</th>\n",
       "      <td>28.0</td>\n",
       "      <td>7.7333</td>\n",
       "      <td>1</td>\n",
       "      <td>1</td>\n",
       "    </tr>\n",
       "    <tr>\n",
       "      <th>1</th>\n",
       "      <td>38.0</td>\n",
       "      <td>8.6625</td>\n",
       "      <td>0</td>\n",
       "      <td>0</td>\n",
       "    </tr>\n",
       "    <tr>\n",
       "      <th>2</th>\n",
       "      <td>30.0</td>\n",
       "      <td>24.1500</td>\n",
       "      <td>0</td>\n",
       "      <td>0</td>\n",
       "    </tr>\n",
       "    <tr>\n",
       "      <th>3</th>\n",
       "      <td>54.0</td>\n",
       "      <td>23.0000</td>\n",
       "      <td>1</td>\n",
       "      <td>0</td>\n",
       "    </tr>\n",
       "    <tr>\n",
       "      <th>4</th>\n",
       "      <td>40.0</td>\n",
       "      <td>13.0000</td>\n",
       "      <td>0</td>\n",
       "      <td>0</td>\n",
       "    </tr>\n",
       "    <tr>\n",
       "      <th>5</th>\n",
       "      <td>28.0</td>\n",
       "      <td>22.5250</td>\n",
       "      <td>0</td>\n",
       "      <td>0</td>\n",
       "    </tr>\n",
       "    <tr>\n",
       "      <th>6</th>\n",
       "      <td>19.0</td>\n",
       "      <td>0.0000</td>\n",
       "      <td>0</td>\n",
       "      <td>0</td>\n",
       "    </tr>\n",
       "    <tr>\n",
       "      <th>7</th>\n",
       "      <td>30.0</td>\n",
       "      <td>13.0000</td>\n",
       "      <td>1</td>\n",
       "      <td>0</td>\n",
       "    </tr>\n",
       "    <tr>\n",
       "      <th>8</th>\n",
       "      <td>22.0</td>\n",
       "      <td>7.7750</td>\n",
       "      <td>1</td>\n",
       "      <td>0</td>\n",
       "    </tr>\n",
       "    <tr>\n",
       "      <th>9</th>\n",
       "      <td>21.0</td>\n",
       "      <td>9.8250</td>\n",
       "      <td>0</td>\n",
       "      <td>0</td>\n",
       "    </tr>\n",
       "    <tr>\n",
       "      <th>10</th>\n",
       "      <td>27.0</td>\n",
       "      <td>211.5000</td>\n",
       "      <td>0</td>\n",
       "      <td>0</td>\n",
       "    </tr>\n",
       "    <tr>\n",
       "      <th>11</th>\n",
       "      <td>60.0</td>\n",
       "      <td>76.2917</td>\n",
       "      <td>1</td>\n",
       "      <td>0</td>\n",
       "    </tr>\n",
       "    <tr>\n",
       "      <th>12</th>\n",
       "      <td>56.0</td>\n",
       "      <td>83.1583</td>\n",
       "      <td>1</td>\n",
       "      <td>0</td>\n",
       "    </tr>\n",
       "    <tr>\n",
       "      <th>13</th>\n",
       "      <td>20.0</td>\n",
       "      <td>23.0000</td>\n",
       "      <td>1</td>\n",
       "      <td>0</td>\n",
       "    </tr>\n",
       "    <tr>\n",
       "      <th>14</th>\n",
       "      <td>16.0</td>\n",
       "      <td>20.2500</td>\n",
       "      <td>0</td>\n",
       "      <td>0</td>\n",
       "    </tr>\n",
       "    <tr>\n",
       "      <th>15</th>\n",
       "      <td>48.0</td>\n",
       "      <td>7.8542</td>\n",
       "      <td>0</td>\n",
       "      <td>0</td>\n",
       "    </tr>\n",
       "    <tr>\n",
       "      <th>16</th>\n",
       "      <td>40.0</td>\n",
       "      <td>16.0000</td>\n",
       "      <td>0</td>\n",
       "      <td>0</td>\n",
       "    </tr>\n",
       "    <tr>\n",
       "      <th>17</th>\n",
       "      <td>28.0</td>\n",
       "      <td>23.2500</td>\n",
       "      <td>1</td>\n",
       "      <td>1</td>\n",
       "    </tr>\n",
       "    <tr>\n",
       "      <th>18</th>\n",
       "      <td>22.0</td>\n",
       "      <td>55.0000</td>\n",
       "      <td>1</td>\n",
       "      <td>0</td>\n",
       "    </tr>\n",
       "    <tr>\n",
       "      <th>19</th>\n",
       "      <td>32.0</td>\n",
       "      <td>7.7750</td>\n",
       "      <td>1</td>\n",
       "      <td>0</td>\n",
       "    </tr>\n",
       "  </tbody>\n",
       "</table>\n",
       "</div>"
      ],
      "text/plain": [
       "     age      fare  survived  age_nan\n",
       "0   28.0    7.7333         1        1\n",
       "1   38.0    8.6625         0        0\n",
       "2   30.0   24.1500         0        0\n",
       "3   54.0   23.0000         1        0\n",
       "4   40.0   13.0000         0        0\n",
       "5   28.0   22.5250         0        0\n",
       "6   19.0    0.0000         0        0\n",
       "7   30.0   13.0000         1        0\n",
       "8   22.0    7.7750         1        0\n",
       "9   21.0    9.8250         0        0\n",
       "10  27.0  211.5000         0        0\n",
       "11  60.0   76.2917         1        0\n",
       "12  56.0   83.1583         1        0\n",
       "13  20.0   23.0000         1        0\n",
       "14  16.0   20.2500         0        0\n",
       "15  48.0    7.8542         0        0\n",
       "16  40.0   16.0000         0        0\n",
       "17  28.0   23.2500         1        1\n",
       "18  22.0   55.0000         1        0\n",
       "19  32.0    7.7750         1        0"
      ]
     },
     "execution_count": 35,
     "metadata": {},
     "output_type": "execute_result"
    }
   ],
   "source": [
    "df.head(20)"
   ]
  },
  {
   "cell_type": "markdown",
   "id": "f7ae8ef6",
   "metadata": {},
   "source": [
    "## Observation:\n",
    "### Pros: \n",
    "1. Easy to Implement\n",
    "2. Capturing the importance of missing values\n",
    "\n",
    "### Cons:\n",
    "1. Creating Additional Features (Curse of Dimensionality)"
   ]
  },
  {
   "cell_type": "markdown",
   "id": "143eb7c8",
   "metadata": {},
   "source": [
    "## End of Distribution Imputation"
   ]
  },
  {
   "cell_type": "code",
   "execution_count": 36,
   "id": "2e0989f3",
   "metadata": {},
   "outputs": [],
   "source": [
    "df = pd.read_csv('./CSV Files/titanic_train.csv', usecols=['age', 'fare', 'survived'])"
   ]
  },
  {
   "cell_type": "code",
   "execution_count": 37,
   "id": "ca0fbc9a",
   "metadata": {},
   "outputs": [],
   "source": [
    "df.fare.fillna(df.fare.value_counts().index[0], inplace=True)"
   ]
  },
  {
   "cell_type": "code",
   "execution_count": 38,
   "id": "ac406a1e",
   "metadata": {},
   "outputs": [
    {
     "data": {
      "text/html": [
       "<div>\n",
       "<style scoped>\n",
       "    .dataframe tbody tr th:only-of-type {\n",
       "        vertical-align: middle;\n",
       "    }\n",
       "\n",
       "    .dataframe tbody tr th {\n",
       "        vertical-align: top;\n",
       "    }\n",
       "\n",
       "    .dataframe thead th {\n",
       "        text-align: right;\n",
       "    }\n",
       "</style>\n",
       "<table border=\"1\" class=\"dataframe\">\n",
       "  <thead>\n",
       "    <tr style=\"text-align: right;\">\n",
       "      <th></th>\n",
       "      <th>age</th>\n",
       "      <th>fare</th>\n",
       "      <th>survived</th>\n",
       "    </tr>\n",
       "  </thead>\n",
       "  <tbody>\n",
       "    <tr>\n",
       "      <th>0</th>\n",
       "      <td>NaN</td>\n",
       "      <td>7.7333</td>\n",
       "      <td>1</td>\n",
       "    </tr>\n",
       "    <tr>\n",
       "      <th>1</th>\n",
       "      <td>38.0</td>\n",
       "      <td>8.6625</td>\n",
       "      <td>0</td>\n",
       "    </tr>\n",
       "    <tr>\n",
       "      <th>2</th>\n",
       "      <td>30.0</td>\n",
       "      <td>24.1500</td>\n",
       "      <td>0</td>\n",
       "    </tr>\n",
       "    <tr>\n",
       "      <th>3</th>\n",
       "      <td>54.0</td>\n",
       "      <td>23.0000</td>\n",
       "      <td>1</td>\n",
       "    </tr>\n",
       "    <tr>\n",
       "      <th>4</th>\n",
       "      <td>40.0</td>\n",
       "      <td>13.0000</td>\n",
       "      <td>0</td>\n",
       "    </tr>\n",
       "    <tr>\n",
       "      <th>5</th>\n",
       "      <td>28.0</td>\n",
       "      <td>22.5250</td>\n",
       "      <td>0</td>\n",
       "    </tr>\n",
       "    <tr>\n",
       "      <th>6</th>\n",
       "      <td>19.0</td>\n",
       "      <td>0.0000</td>\n",
       "      <td>0</td>\n",
       "    </tr>\n",
       "    <tr>\n",
       "      <th>7</th>\n",
       "      <td>30.0</td>\n",
       "      <td>13.0000</td>\n",
       "      <td>1</td>\n",
       "    </tr>\n",
       "    <tr>\n",
       "      <th>8</th>\n",
       "      <td>22.0</td>\n",
       "      <td>7.7750</td>\n",
       "      <td>1</td>\n",
       "    </tr>\n",
       "    <tr>\n",
       "      <th>9</th>\n",
       "      <td>21.0</td>\n",
       "      <td>9.8250</td>\n",
       "      <td>0</td>\n",
       "    </tr>\n",
       "    <tr>\n",
       "      <th>10</th>\n",
       "      <td>27.0</td>\n",
       "      <td>211.5000</td>\n",
       "      <td>0</td>\n",
       "    </tr>\n",
       "    <tr>\n",
       "      <th>11</th>\n",
       "      <td>60.0</td>\n",
       "      <td>76.2917</td>\n",
       "      <td>1</td>\n",
       "    </tr>\n",
       "    <tr>\n",
       "      <th>12</th>\n",
       "      <td>56.0</td>\n",
       "      <td>83.1583</td>\n",
       "      <td>1</td>\n",
       "    </tr>\n",
       "    <tr>\n",
       "      <th>13</th>\n",
       "      <td>20.0</td>\n",
       "      <td>23.0000</td>\n",
       "      <td>1</td>\n",
       "    </tr>\n",
       "    <tr>\n",
       "      <th>14</th>\n",
       "      <td>16.0</td>\n",
       "      <td>20.2500</td>\n",
       "      <td>0</td>\n",
       "    </tr>\n",
       "    <tr>\n",
       "      <th>15</th>\n",
       "      <td>48.0</td>\n",
       "      <td>7.8542</td>\n",
       "      <td>0</td>\n",
       "    </tr>\n",
       "    <tr>\n",
       "      <th>16</th>\n",
       "      <td>40.0</td>\n",
       "      <td>16.0000</td>\n",
       "      <td>0</td>\n",
       "    </tr>\n",
       "    <tr>\n",
       "      <th>17</th>\n",
       "      <td>NaN</td>\n",
       "      <td>23.2500</td>\n",
       "      <td>1</td>\n",
       "    </tr>\n",
       "    <tr>\n",
       "      <th>18</th>\n",
       "      <td>22.0</td>\n",
       "      <td>55.0000</td>\n",
       "      <td>1</td>\n",
       "    </tr>\n",
       "    <tr>\n",
       "      <th>19</th>\n",
       "      <td>32.0</td>\n",
       "      <td>7.7750</td>\n",
       "      <td>1</td>\n",
       "    </tr>\n",
       "  </tbody>\n",
       "</table>\n",
       "</div>"
      ],
      "text/plain": [
       "     age      fare  survived\n",
       "0    NaN    7.7333         1\n",
       "1   38.0    8.6625         0\n",
       "2   30.0   24.1500         0\n",
       "3   54.0   23.0000         1\n",
       "4   40.0   13.0000         0\n",
       "5   28.0   22.5250         0\n",
       "6   19.0    0.0000         0\n",
       "7   30.0   13.0000         1\n",
       "8   22.0    7.7750         1\n",
       "9   21.0    9.8250         0\n",
       "10  27.0  211.5000         0\n",
       "11  60.0   76.2917         1\n",
       "12  56.0   83.1583         1\n",
       "13  20.0   23.0000         1\n",
       "14  16.0   20.2500         0\n",
       "15  48.0    7.8542         0\n",
       "16  40.0   16.0000         0\n",
       "17   NaN   23.2500         1\n",
       "18  22.0   55.0000         1\n",
       "19  32.0    7.7750         1"
      ]
     },
     "execution_count": 38,
     "metadata": {},
     "output_type": "execute_result"
    }
   ],
   "source": [
    "df.head(20)"
   ]
  },
  {
   "cell_type": "code",
   "execution_count": 39,
   "id": "949c8f61",
   "metadata": {},
   "outputs": [
    {
     "data": {
      "text/plain": [
       "<AxesSubplot:>"
      ]
     },
     "execution_count": 39,
     "metadata": {},
     "output_type": "execute_result"
    },
    {
     "data": {
      "image/png": "[encoded data removed]",
      "text/plain": [
       "<Figure size 432x288 with 1 Axes>"
      ]
     },
     "metadata": {
      "needs_background": "light"
     },
     "output_type": "display_data"
    }
   ],
   "source": [
    "df.age.hist(bins=50)"
   ]
  },
  {
   "cell_type": "code",
   "execution_count": 40,
   "id": "9e559e4d",
   "metadata": {},
   "outputs": [],
   "source": [
    "extreme = df.age.mean() + 3 * df.age.std()"
   ]
  },
  {
   "cell_type": "code",
   "execution_count": 41,
   "id": "d57fb17f",
   "metadata": {},
   "outputs": [
    {
     "data": {
      "text/html": [
       "<div>\n",
       "<style scoped>\n",
       "    .dataframe tbody tr th:only-of-type {\n",
       "        vertical-align: middle;\n",
       "    }\n",
       "\n",
       "    .dataframe tbody tr th {\n",
       "        vertical-align: top;\n",
       "    }\n",
       "\n",
       "    .dataframe thead th {\n",
       "        text-align: right;\n",
       "    }\n",
       "</style>\n",
       "<table border=\"1\" class=\"dataframe\">\n",
       "  <thead>\n",
       "    <tr style=\"text-align: right;\">\n",
       "      <th></th>\n",
       "      <th>age</th>\n",
       "      <th>fare</th>\n",
       "      <th>survived</th>\n",
       "    </tr>\n",
       "  </thead>\n",
       "  <tbody>\n",
       "    <tr>\n",
       "      <th>177</th>\n",
       "      <td>80.0</td>\n",
       "      <td>30.000</td>\n",
       "      <td>1</td>\n",
       "    </tr>\n",
       "    <tr>\n",
       "      <th>733</th>\n",
       "      <td>74.0</td>\n",
       "      <td>7.775</td>\n",
       "      <td>0</td>\n",
       "    </tr>\n",
       "    <tr>\n",
       "      <th>834</th>\n",
       "      <td>76.0</td>\n",
       "      <td>78.850</td>\n",
       "      <td>1</td>\n",
       "    </tr>\n",
       "  </tbody>\n",
       "</table>\n",
       "</div>"
      ],
      "text/plain": [
       "      age    fare  survived\n",
       "177  80.0  30.000         1\n",
       "733  74.0   7.775         0\n",
       "834  76.0  78.850         1"
      ]
     },
     "execution_count": 41,
     "metadata": {},
     "output_type": "execute_result"
    }
   ],
   "source": [
    "df[df['age'] > 73]"
   ]
  },
  {
   "cell_type": "code",
   "execution_count": 42,
   "id": "71984699",
   "metadata": {},
   "outputs": [],
   "source": [
    "import seaborn as sns"
   ]
  },
  {
   "cell_type": "code",
   "execution_count": 43,
   "id": "d27eea9e",
   "metadata": {},
   "outputs": [
    {
     "name": "stderr",
     "output_type": "stream",
     "text": [
      "C:\\Users\\Admin\\anaconda3\\lib\\site-packages\\seaborn\\_decorators.py:36: FutureWarning: Pass the following variable as a keyword arg: x. From version 0.12, the only valid positional argument will be `data`, and passing other arguments without an explicit keyword will result in an error or misinterpretation.\n",
      "  warnings.warn(\n"
     ]
    },
    {
     "data": {
      "text/plain": [
       "<AxesSubplot:xlabel='age'>"
      ]
     },
     "execution_count": 43,
     "metadata": {},
     "output_type": "execute_result"
    },
    {
     "data": {
      "image/png": "[encoded data removed]",
      "text/plain": [
       "<Figure size 432x288 with 1 Axes>"
      ]
     },
     "metadata": {
      "needs_background": "light"
     },
     "output_type": "display_data"
    }
   ],
   "source": [
    "sns.boxplot('age', data=df)"
   ]
  },
  {
   "cell_type": "code",
   "execution_count": 44,
   "id": "a0ab625f",
   "metadata": {},
   "outputs": [],
   "source": [
    "def impute_nan(df, variable, extreme):\n",
    "    df[variable+'_extreme_distribution'] = df[variable].fillna(extreme)\n",
    "    df[variable].fillna(median, inplace=True)"
   ]
  },
  {
   "cell_type": "code",
   "execution_count": 45,
   "id": "1b62a6dd",
   "metadata": {},
   "outputs": [],
   "source": [
    "impute_nan(df, 'age', extreme)"
   ]
  },
  {
   "cell_type": "code",
   "execution_count": 46,
   "id": "a77a6498",
   "metadata": {},
   "outputs": [
    {
     "data": {
      "text/html": [
       "<div>\n",
       "<style scoped>\n",
       "    .dataframe tbody tr th:only-of-type {\n",
       "        vertical-align: middle;\n",
       "    }\n",
       "\n",
       "    .dataframe tbody tr th {\n",
       "        vertical-align: top;\n",
       "    }\n",
       "\n",
       "    .dataframe thead th {\n",
       "        text-align: right;\n",
       "    }\n",
       "</style>\n",
       "<table border=\"1\" class=\"dataframe\">\n",
       "  <thead>\n",
       "    <tr style=\"text-align: right;\">\n",
       "      <th></th>\n",
       "      <th>age</th>\n",
       "      <th>fare</th>\n",
       "      <th>survived</th>\n",
       "      <th>age_extreme_distribution</th>\n",
       "    </tr>\n",
       "  </thead>\n",
       "  <tbody>\n",
       "    <tr>\n",
       "      <th>0</th>\n",
       "      <td>28.0</td>\n",
       "      <td>7.7333</td>\n",
       "      <td>1</td>\n",
       "      <td>73.206577</td>\n",
       "    </tr>\n",
       "    <tr>\n",
       "      <th>1</th>\n",
       "      <td>38.0</td>\n",
       "      <td>8.6625</td>\n",
       "      <td>0</td>\n",
       "      <td>38.000000</td>\n",
       "    </tr>\n",
       "    <tr>\n",
       "      <th>2</th>\n",
       "      <td>30.0</td>\n",
       "      <td>24.1500</td>\n",
       "      <td>0</td>\n",
       "      <td>30.000000</td>\n",
       "    </tr>\n",
       "    <tr>\n",
       "      <th>3</th>\n",
       "      <td>54.0</td>\n",
       "      <td>23.0000</td>\n",
       "      <td>1</td>\n",
       "      <td>54.000000</td>\n",
       "    </tr>\n",
       "    <tr>\n",
       "      <th>4</th>\n",
       "      <td>40.0</td>\n",
       "      <td>13.0000</td>\n",
       "      <td>0</td>\n",
       "      <td>40.000000</td>\n",
       "    </tr>\n",
       "    <tr>\n",
       "      <th>5</th>\n",
       "      <td>28.0</td>\n",
       "      <td>22.5250</td>\n",
       "      <td>0</td>\n",
       "      <td>28.000000</td>\n",
       "    </tr>\n",
       "    <tr>\n",
       "      <th>6</th>\n",
       "      <td>19.0</td>\n",
       "      <td>0.0000</td>\n",
       "      <td>0</td>\n",
       "      <td>19.000000</td>\n",
       "    </tr>\n",
       "    <tr>\n",
       "      <th>7</th>\n",
       "      <td>30.0</td>\n",
       "      <td>13.0000</td>\n",
       "      <td>1</td>\n",
       "      <td>30.000000</td>\n",
       "    </tr>\n",
       "    <tr>\n",
       "      <th>8</th>\n",
       "      <td>22.0</td>\n",
       "      <td>7.7750</td>\n",
       "      <td>1</td>\n",
       "      <td>22.000000</td>\n",
       "    </tr>\n",
       "    <tr>\n",
       "      <th>9</th>\n",
       "      <td>21.0</td>\n",
       "      <td>9.8250</td>\n",
       "      <td>0</td>\n",
       "      <td>21.000000</td>\n",
       "    </tr>\n",
       "    <tr>\n",
       "      <th>10</th>\n",
       "      <td>27.0</td>\n",
       "      <td>211.5000</td>\n",
       "      <td>0</td>\n",
       "      <td>27.000000</td>\n",
       "    </tr>\n",
       "    <tr>\n",
       "      <th>11</th>\n",
       "      <td>60.0</td>\n",
       "      <td>76.2917</td>\n",
       "      <td>1</td>\n",
       "      <td>60.000000</td>\n",
       "    </tr>\n",
       "    <tr>\n",
       "      <th>12</th>\n",
       "      <td>56.0</td>\n",
       "      <td>83.1583</td>\n",
       "      <td>1</td>\n",
       "      <td>56.000000</td>\n",
       "    </tr>\n",
       "    <tr>\n",
       "      <th>13</th>\n",
       "      <td>20.0</td>\n",
       "      <td>23.0000</td>\n",
       "      <td>1</td>\n",
       "      <td>20.000000</td>\n",
       "    </tr>\n",
       "    <tr>\n",
       "      <th>14</th>\n",
       "      <td>16.0</td>\n",
       "      <td>20.2500</td>\n",
       "      <td>0</td>\n",
       "      <td>16.000000</td>\n",
       "    </tr>\n",
       "    <tr>\n",
       "      <th>15</th>\n",
       "      <td>48.0</td>\n",
       "      <td>7.8542</td>\n",
       "      <td>0</td>\n",
       "      <td>48.000000</td>\n",
       "    </tr>\n",
       "    <tr>\n",
       "      <th>16</th>\n",
       "      <td>40.0</td>\n",
       "      <td>16.0000</td>\n",
       "      <td>0</td>\n",
       "      <td>40.000000</td>\n",
       "    </tr>\n",
       "    <tr>\n",
       "      <th>17</th>\n",
       "      <td>28.0</td>\n",
       "      <td>23.2500</td>\n",
       "      <td>1</td>\n",
       "      <td>73.206577</td>\n",
       "    </tr>\n",
       "    <tr>\n",
       "      <th>18</th>\n",
       "      <td>22.0</td>\n",
       "      <td>55.0000</td>\n",
       "      <td>1</td>\n",
       "      <td>22.000000</td>\n",
       "    </tr>\n",
       "    <tr>\n",
       "      <th>19</th>\n",
       "      <td>32.0</td>\n",
       "      <td>7.7750</td>\n",
       "      <td>1</td>\n",
       "      <td>32.000000</td>\n",
       "    </tr>\n",
       "  </tbody>\n",
       "</table>\n",
       "</div>"
      ],
      "text/plain": [
       "     age      fare  survived  age_extreme_distribution\n",
       "0   28.0    7.7333         1                 73.206577\n",
       "1   38.0    8.6625         0                 38.000000\n",
       "2   30.0   24.1500         0                 30.000000\n",
       "3   54.0   23.0000         1                 54.000000\n",
       "4   40.0   13.0000         0                 40.000000\n",
       "5   28.0   22.5250         0                 28.000000\n",
       "6   19.0    0.0000         0                 19.000000\n",
       "7   30.0   13.0000         1                 30.000000\n",
       "8   22.0    7.7750         1                 22.000000\n",
       "9   21.0    9.8250         0                 21.000000\n",
       "10  27.0  211.5000         0                 27.000000\n",
       "11  60.0   76.2917         1                 60.000000\n",
       "12  56.0   83.1583         1                 56.000000\n",
       "13  20.0   23.0000         1                 20.000000\n",
       "14  16.0   20.2500         0                 16.000000\n",
       "15  48.0    7.8542         0                 48.000000\n",
       "16  40.0   16.0000         0                 40.000000\n",
       "17  28.0   23.2500         1                 73.206577\n",
       "18  22.0   55.0000         1                 22.000000\n",
       "19  32.0    7.7750         1                 32.000000"
      ]
     },
     "execution_count": 46,
     "metadata": {},
     "output_type": "execute_result"
    }
   ],
   "source": [
    "df.head(20)"
   ]
  },
  {
   "cell_type": "code",
   "execution_count": 47,
   "id": "00977e3f",
   "metadata": {},
   "outputs": [
    {
     "data": {
      "text/plain": [
       "<AxesSubplot:>"
      ]
     },
     "execution_count": 47,
     "metadata": {},
     "output_type": "execute_result"
    },
    {
     "data": {
      "image/png": "[encoded data removed]",
      "text/plain": [
       "<Figure size 432x288 with 1 Axes>"
      ]
     },
     "metadata": {
      "needs_background": "light"
     },
     "output_type": "display_data"
    }
   ],
   "source": [
    "df.age.hist(bins=50)"
   ]
  },
  {
   "cell_type": "code",
   "execution_count": 48,
   "id": "147ed99e",
   "metadata": {},
   "outputs": [
    {
     "data": {
      "text/plain": [
       "<AxesSubplot:>"
      ]
     },
     "execution_count": 48,
     "metadata": {},
     "output_type": "execute_result"
    },
    {
     "data": {
      "image/png": "[encoded data removed]",
      "text/plain": [
       "<Figure size 432x288 with 1 Axes>"
      ]
     },
     "metadata": {
      "needs_background": "light"
     },
     "output_type": "display_data"
    }
   ],
   "source": [
    "df.age_extreme_distribution.hist(bins=50)"
   ]
  },
  {
   "cell_type": "markdown",
   "id": "7d766a76",
   "metadata": {},
   "source": [
    "## Observation:\n",
    "### Cons:\n",
    "1. Change in the distortion of variance"
   ]
  },
  {
   "cell_type": "code",
   "execution_count": 49,
   "id": "950bcd18",
   "metadata": {},
   "outputs": [
    {
     "name": "stderr",
     "output_type": "stream",
     "text": [
      "C:\\Users\\Admin\\anaconda3\\lib\\site-packages\\seaborn\\_decorators.py:36: FutureWarning: Pass the following variable as a keyword arg: x. From version 0.12, the only valid positional argument will be `data`, and passing other arguments without an explicit keyword will result in an error or misinterpretation.\n",
      "  warnings.warn(\n"
     ]
    },
    {
     "data": {
      "text/plain": [
       "<AxesSubplot:xlabel='age_extreme_distribution'>"
      ]
     },
     "execution_count": 49,
     "metadata": {},
     "output_type": "execute_result"
    },
    {
     "data": {
      "image/png": "[encoded data removed]",
      "text/plain": [
       "<Figure size 432x288 with 1 Axes>"
      ]
     },
     "metadata": {
      "needs_background": "light"
     },
     "output_type": "display_data"
    }
   ],
   "source": [
    "sns.boxplot('age_extreme_distribution', data=df)"
   ]
  },
  {
   "cell_type": "code",
   "execution_count": 50,
   "id": "6cb2a462",
   "metadata": {},
   "outputs": [
    {
     "data": {
      "text/plain": [
       "<matplotlib.legend.Legend at 0x2797ef35a30>"
      ]
     },
     "execution_count": 50,
     "metadata": {},
     "output_type": "execute_result"
    },
    {
     "data": {
      "image/png": "[encoded data removed]",
      "text/plain": [
       "<Figure size 432x288 with 1 Axes>"
      ]
     },
     "metadata": {
      "needs_background": "light"
     },
     "output_type": "display_data"
    }
   ],
   "source": [
    "import matplotlib.pyplot as plt\n",
    "\n",
    "fig = plt.figure()\n",
    "ax = fig.add_subplot(111)\n",
    "df.age.plot(kind='kde', ax=ax)\n",
    "df.age_extreme_distribution.plot(kind='kde', ax=ax, color='red')\n",
    "lines, labels = ax.get_legend_handles_labels()\n",
    "ax.legend(lines, labels, loc='best')"
   ]
  },
  {
   "cell_type": "markdown",
   "id": "1946495a",
   "metadata": {},
   "source": [
    "## Cons: \n",
    "1. Distorts the original distribution of the variable"
   ]
  },
  {
   "cell_type": "code",
   "execution_count": null,
   "id": "2738478b",
   "metadata": {},
   "outputs": [],
   "source": []
  }
 ],
 "metadata": {
  "kernelspec": {
   "display_name": "Python 3",
   "language": "python",
   "name": "python3"
  },
  "language_info": {
   "codemirror_mode": {
    "name": "ipython",
    "version": 3
   },
   "file_extension": ".py",
   "mimetype": "text/x-python",
   "name": "python",
   "nbconvert_exporter": "python",
   "pygments_lexer": "ipython3",
   "version": "3.8.8"
  }
 },
 "nbformat": 4,
 "nbformat_minor": 5
}
