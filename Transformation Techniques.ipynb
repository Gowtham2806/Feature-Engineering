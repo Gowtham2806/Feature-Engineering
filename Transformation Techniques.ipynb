{
 "cells": [
  {
   "cell_type": "markdown",
   "id": "d14ea829",
   "metadata": {},
   "source": [
    "# Transformation of Features"
   ]
  },
  {
   "cell_type": "markdown",
   "id": "7a2fc5f4",
   "metadata": {},
   "source": [
    "#### Where Transformation is required?\n",
    "Algorithms which uses the concept of Gradient Descent (Eg: Linear Regression, Logistic Regression) or Eucledian Distance (Eg: KNN, K Means, Hierarchical Clustering). Because in both the concepts if the feature values are high, takes lot of time to find the Global Minina in Gradient Descent and distance between two points in Eucledian Distance. If the values are low, its easy to calculate the Global Minima and Eucledian Distance and takes less time.\n",
    "\n",
    "#### Does Transformation required for all ML Algorithms?\n",
    "No, It doesn't required for all ML algorithms(Eg: Decision Tree, Random Forest, Ensemble Methods). Algorithms like Decision Tree creates its tree based on a values of the features, it is not necessary to transformation the values.\n",
    "\n",
    "#### Does Deep Learning requires Transformation?\n",
    "Yes, It does require for all techniques (ANN, CNN, RNN)"
   ]
  },
  {
   "cell_type": "markdown",
   "id": "d868fef6",
   "metadata": {},
   "source": [
    "# Types of Transformation \n",
    "1. Normalization and Standardization\n",
    "2. Scaling to Minimum and Maximum\n",
    "3. Scaling to Median and Quantiles\n",
    "4. Guassian Transformation\n",
    "     1. Logarithmic Transformation\n",
    "     2. Reciprocal Transformation\n",
    "     3. Square Root Transformation\n",
    "     4. Exponential Transformation\n",
    "     5. Box Cox Transformation"
   ]
  },
  {
   "cell_type": "markdown",
   "id": "e75e5d56",
   "metadata": {},
   "source": [
    "### Standardization\n",
    "We try to bring all the variables or features to a similar scale. Standardization means centering the variable at zero. Transforming the variables considering the mean value is Zero\n",
    "\n",
    "### Formula: \n",
    "   z = (x - x_mean) / std"
   ]
  },
  {
   "cell_type": "code",
   "execution_count": 1,
   "id": "62b7d44b",
   "metadata": {},
   "outputs": [],
   "source": [
    "import pandas as pd\n",
    "import numpy as np"
   ]
  },
  {
   "cell_type": "code",
   "execution_count": 2,
   "id": "bcd5f566",
   "metadata": {},
   "outputs": [],
   "source": [
    "df = pd.read_csv('../CSV Files/titanic_train.csv')"
   ]
  },
  {
   "cell_type": "code",
   "execution_count": 3,
   "id": "ca872e05",
   "metadata": {},
   "outputs": [
    {
     "data": {
      "text/plain": [
       "Index(['passenger_id', 'pclass', 'name', 'sex', 'age', 'sibsp', 'parch',\n",
       "       'ticket', 'fare', 'cabin', 'embarked', 'boat', 'body', 'home.dest',\n",
       "       'survived'],\n",
       "      dtype='object')"
      ]
     },
     "execution_count": 3,
     "metadata": {},
     "output_type": "execute_result"
    }
   ],
   "source": [
    "df.columns"
   ]
  },
  {
   "cell_type": "code",
   "execution_count": 4,
   "id": "8b14fe9b",
   "metadata": {},
   "outputs": [
    {
     "data": {
      "text/html": [
       "<div>\n",
       "<style scoped>\n",
       "    .dataframe tbody tr th:only-of-type {\n",
       "        vertical-align: middle;\n",
       "    }\n",
       "\n",
       "    .dataframe tbody tr th {\n",
       "        vertical-align: top;\n",
       "    }\n",
       "\n",
       "    .dataframe thead th {\n",
       "        text-align: right;\n",
       "    }\n",
       "</style>\n",
       "<table border=\"1\" class=\"dataframe\">\n",
       "  <thead>\n",
       "    <tr style=\"text-align: right;\">\n",
       "      <th></th>\n",
       "      <th>pclass</th>\n",
       "      <th>age</th>\n",
       "      <th>fare</th>\n",
       "      <th>survived</th>\n",
       "    </tr>\n",
       "  </thead>\n",
       "  <tbody>\n",
       "    <tr>\n",
       "      <th>0</th>\n",
       "      <td>3</td>\n",
       "      <td>NaN</td>\n",
       "      <td>7.7333</td>\n",
       "      <td>1</td>\n",
       "    </tr>\n",
       "    <tr>\n",
       "      <th>1</th>\n",
       "      <td>3</td>\n",
       "      <td>38.0</td>\n",
       "      <td>8.6625</td>\n",
       "      <td>0</td>\n",
       "    </tr>\n",
       "    <tr>\n",
       "      <th>2</th>\n",
       "      <td>3</td>\n",
       "      <td>30.0</td>\n",
       "      <td>24.1500</td>\n",
       "      <td>0</td>\n",
       "    </tr>\n",
       "    <tr>\n",
       "      <th>3</th>\n",
       "      <td>2</td>\n",
       "      <td>54.0</td>\n",
       "      <td>23.0000</td>\n",
       "      <td>1</td>\n",
       "    </tr>\n",
       "    <tr>\n",
       "      <th>4</th>\n",
       "      <td>2</td>\n",
       "      <td>40.0</td>\n",
       "      <td>13.0000</td>\n",
       "      <td>0</td>\n",
       "    </tr>\n",
       "  </tbody>\n",
       "</table>\n",
       "</div>"
      ],
      "text/plain": [
       "   pclass   age     fare  survived\n",
       "0       3   NaN   7.7333         1\n",
       "1       3  38.0   8.6625         0\n",
       "2       3  30.0  24.1500         0\n",
       "3       2  54.0  23.0000         1\n",
       "4       2  40.0  13.0000         0"
      ]
     },
     "execution_count": 4,
     "metadata": {},
     "output_type": "execute_result"
    }
   ],
   "source": [
    "df = pd.read_csv('../CSV Files/titanic_train.csv', usecols=['pclass', 'age', 'fare', 'survived'])\n",
    "df.head()"
   ]
  },
  {
   "cell_type": "code",
   "execution_count": 5,
   "id": "5cb762d3",
   "metadata": {},
   "outputs": [
    {
     "data": {
      "text/plain": [
       "pclass        int64\n",
       "age         float64\n",
       "fare        float64\n",
       "survived      int64\n",
       "dtype: object"
      ]
     },
     "execution_count": 5,
     "metadata": {},
     "output_type": "execute_result"
    }
   ],
   "source": [
    "df.dtypes"
   ]
  },
  {
   "cell_type": "code",
   "execution_count": 6,
   "id": "3eb28b20",
   "metadata": {},
   "outputs": [
    {
     "data": {
      "text/plain": [
       "pclass      0.000000\n",
       "age         0.204706\n",
       "fare        0.001176\n",
       "survived    0.000000\n",
       "dtype: float64"
      ]
     },
     "execution_count": 6,
     "metadata": {},
     "output_type": "execute_result"
    }
   ],
   "source": [
    "df.isnull().mean()"
   ]
  },
  {
   "cell_type": "code",
   "execution_count": 7,
   "id": "51fa66cd",
   "metadata": {},
   "outputs": [],
   "source": [
    "df.age.fillna(df.age.median(), inplace=True)"
   ]
  },
  {
   "cell_type": "code",
   "execution_count": 8,
   "id": "66c48b4b",
   "metadata": {},
   "outputs": [
    {
     "data": {
      "text/plain": [
       "13.0000     42\n",
       "8.0500      40\n",
       "7.7500      39\n",
       "7.8958      32\n",
       "26.0000     29\n",
       "            ..\n",
       "247.5208     1\n",
       "11.1333      1\n",
       "39.4000      1\n",
       "7.1417       1\n",
       "25.7417      1\n",
       "Name: fare, Length: 236, dtype: int64"
      ]
     },
     "execution_count": 8,
     "metadata": {},
     "output_type": "execute_result"
    }
   ],
   "source": [
    "df.fare.value_counts()"
   ]
  },
  {
   "cell_type": "code",
   "execution_count": 12,
   "id": "5b3110b3",
   "metadata": {},
   "outputs": [
    {
     "data": {
      "text/plain": [
       "1"
      ]
     },
     "execution_count": 12,
     "metadata": {},
     "output_type": "execute_result"
    }
   ],
   "source": [
    "df.fare.isnull().sum()"
   ]
  },
  {
   "cell_type": "code",
   "execution_count": 13,
   "id": "65c715dd",
   "metadata": {},
   "outputs": [],
   "source": [
    "df.fare.fillna(13.0000, inplace=True)"
   ]
  },
  {
   "cell_type": "code",
   "execution_count": 14,
   "id": "d1f89127",
   "metadata": {},
   "outputs": [
    {
     "data": {
      "text/plain": [
       "pclass      0\n",
       "age         0\n",
       "fare        0\n",
       "survived    0\n",
       "dtype: int64"
      ]
     },
     "execution_count": 14,
     "metadata": {},
     "output_type": "execute_result"
    }
   ],
   "source": [
    "df.isnull().sum()"
   ]
  },
  {
   "cell_type": "markdown",
   "id": "aed7f11c",
   "metadata": {},
   "source": [
    "### We use the StandardScaler from sklearn library"
   ]
  },
  {
   "cell_type": "code",
   "execution_count": 19,
   "id": "36c40a52",
   "metadata": {},
   "outputs": [],
   "source": [
    "from sklearn.preprocessing import StandardScaler\n",
    "scaler = StandardScaler()"
   ]
  },
  {
   "cell_type": "code",
   "execution_count": 20,
   "id": "65d770fc",
   "metadata": {},
   "outputs": [],
   "source": [
    "df_scaled = scaler.fit_transform(df)"
   ]
  },
  {
   "cell_type": "code",
   "execution_count": 22,
   "id": "3cfe96ce",
   "metadata": {
    "scrolled": false
   },
   "outputs": [
    {
     "data": {
      "text/plain": [
       "array([[ 0.8114201 , -0.09304062, -0.48939339,  1.30983012],\n",
       "       [ 0.8114201 ,  0.67670089, -0.47207288, -0.76345778],\n",
       "       [ 0.8114201 ,  0.06090768, -0.18338225, -0.76345778],\n",
       "       ...,\n",
       "       [-0.38184475, -0.40093723, -0.14889782,  1.30983012],\n",
       "       [ 0.8114201 , -2.01739441, -0.37677468, -0.76345778],\n",
       "       [-0.38184475,  1.75433901, -0.39122086, -0.76345778]])"
      ]
     },
     "execution_count": 22,
     "metadata": {},
     "output_type": "execute_result"
    }
   ],
   "source": [
    "df_scaled"
   ]
  },
  {
   "cell_type": "code",
   "execution_count": 39,
   "id": "f9627277",
   "metadata": {
    "scrolled": false
   },
   "outputs": [],
   "source": [
    "df_scaled_dataframe = pd.DataFrame(df_scaled)"
   ]
  },
  {
   "cell_type": "code",
   "execution_count": 26,
   "id": "459f5473",
   "metadata": {},
   "outputs": [],
   "source": [
    "import matplotlib.pyplot as plt"
   ]
  },
  {
   "cell_type": "code",
   "execution_count": 30,
   "id": "467188bb",
   "metadata": {},
   "outputs": [
    {
     "data": {
      "text/plain": [
       "(array([206.,   0.,   0.,   0.,   0.,   0.,   0.,   0.,   0., 166.,   0.,\n",
       "          0.,   0.,   0.,   0.,   0.,   0.,   0.,   0., 478.]),\n",
       " array([-1.5751096 , -1.45578311, -1.33645663, -1.21713014, -1.09780366,\n",
       "        -0.97847718, -0.85915069, -0.73982421, -0.62049772, -0.50117124,\n",
       "        -0.38184475, -0.26251827, -0.14319178, -0.0238653 ,  0.09546119,\n",
       "         0.21478767,  0.33411416,  0.45344064,  0.57276713,  0.69209361,\n",
       "         0.8114201 ]),\n",
       " <BarContainer object of 20 artists>)"
      ]
     },
     "execution_count": 30,
     "metadata": {},
     "output_type": "execute_result"
    },
    {
     "data": {
      "image/png": "[encoded data removed]",
      "text/plain": [
       "<Figure size 432x288 with 1 Axes>"
      ]
     },
     "metadata": {
      "needs_background": "light"
     },
     "output_type": "display_data"
    }
   ],
   "source": [
    "plt.hist(df_scaled[:, 0],bins=20)"
   ]
  },
  {
   "cell_type": "code",
   "execution_count": 31,
   "id": "18d49132",
   "metadata": {},
   "outputs": [
    {
     "data": {
      "text/plain": [
       "3"
      ]
     },
     "execution_count": 31,
     "metadata": {},
     "output_type": "execute_result"
    }
   ],
   "source": [
    "df.pclass.nunique()"
   ]
  },
  {
   "cell_type": "code",
   "execution_count": 32,
   "id": "102f2de7",
   "metadata": {},
   "outputs": [
    {
     "data": {
      "text/plain": [
       "(array([ 35.,  14.,  16.,  27.,  81.,  96., 258.,  86.,  65.,  35.,  23.,\n",
       "         31.,  28.,  20.,  15.,  12.,   3.,   2.,   2.,   1.]),\n",
       " array([-2.23548527, -1.92823024, -1.62097522, -1.31372019, -1.00646517,\n",
       "        -0.69921014, -0.39195511, -0.08470009,  0.22255494,  0.52980996,\n",
       "         0.83706499,  1.14432002,  1.45157504,  1.75883007,  2.06608509,\n",
       "         2.37334012,  2.68059515,  2.98785017,  3.2951052 ,  3.60236022,\n",
       "         3.90961525]),\n",
       " <BarContainer object of 20 artists>)"
      ]
     },
     "execution_count": 32,
     "metadata": {},
     "output_type": "execute_result"
    },
    {
     "data": {
      "image/png": "[encoded data removed]",
      "text/plain": [
       "<Figure size 432x288 with 1 Axes>"
      ]
     },
     "metadata": {
      "needs_background": "light"
     },
     "output_type": "display_data"
    }
   ],
   "source": [
    "plt.hist(df_scaled[:, 1], bins=20)"
   ]
  },
  {
   "cell_type": "code",
   "execution_count": 33,
   "id": "fbfcfb53",
   "metadata": {},
   "outputs": [
    {
     "data": {
      "text/plain": [
       "88"
      ]
     },
     "execution_count": 33,
     "metadata": {},
     "output_type": "execute_result"
    }
   ],
   "source": [
    "df.age.nunique()"
   ]
  },
  {
   "cell_type": "code",
   "execution_count": 34,
   "id": "99134a4a",
   "metadata": {},
   "outputs": [
    {
     "data": {
      "text/plain": [
       "236"
      ]
     },
     "execution_count": 34,
     "metadata": {},
     "output_type": "execute_result"
    }
   ],
   "source": [
    "df.fare.nunique()"
   ]
  },
  {
   "cell_type": "code",
   "execution_count": 57,
   "id": "76127f2d",
   "metadata": {},
   "outputs": [
    {
     "data": {
      "text/plain": [
       "(array([483., 173.,  32.,  43.,  51.,  11.,   9.,  10.,   8.,   3.,   0.,\n",
       "          0.,  10.,   4.,   1.,   9.,   0.,   0.,   0.,   0.,   0.,   0.,\n",
       "          0.,   0.,   0.,   0.,   0.,   0.,   0.,   3.]),\n",
       " array([-6.33543909e-01, -3.15212700e-01,  3.11850899e-03,  3.21449718e-01,\n",
       "         6.39780927e-01,  9.58112136e-01,  1.27644334e+00,  1.59477455e+00,\n",
       "         1.91310576e+00,  2.23143697e+00,  2.54976818e+00,  2.86809939e+00,\n",
       "         3.18643060e+00,  3.50476181e+00,  3.82309302e+00,  4.14142423e+00,\n",
       "         4.45975543e+00,  4.77808664e+00,  5.09641785e+00,  5.41474906e+00,\n",
       "         5.73308027e+00,  6.05141148e+00,  6.36974269e+00,  6.68807390e+00,\n",
       "         7.00640511e+00,  7.32473632e+00,  7.64306752e+00,  7.96139873e+00,\n",
       "         8.27972994e+00,  8.59806115e+00,  8.91639236e+00]),\n",
       " <BarContainer object of 30 artists>)"
      ]
     },
     "execution_count": 57,
     "metadata": {},
     "output_type": "execute_result"
    },
    {
     "data": {
      "image/png": "[encoded data removed]",
      "text/plain": [
       "<Figure size 432x288 with 1 Axes>"
      ]
     },
     "metadata": {
      "needs_background": "light"
     },
     "output_type": "display_data"
    }
   ],
   "source": [
    "plt.hist(df_scaled[:,2], bins=30)"
   ]
  },
  {
   "cell_type": "code",
   "execution_count": 48,
   "id": "e375ee72",
   "metadata": {},
   "outputs": [
    {
     "data": {
      "text/plain": [
       "(array([483., 173.,  32.,  43.,  51.,  11.,   9.,  10.,   8.,   3.,   0.,\n",
       "          0.,  10.,   4.,   1.,   9.,   0.,   0.,   0.,   0.,   0.,   0.,\n",
       "          0.,   0.,   0.,   0.,   0.,   0.,   0.,   3.]),\n",
       " array([  0.     ,  17.07764,  34.15528,  51.23292,  68.31056,  85.3882 ,\n",
       "        102.46584, 119.54348, 136.62112, 153.69876, 170.7764 , 187.85404,\n",
       "        204.93168, 222.00932, 239.08696, 256.1646 , 273.24224, 290.31988,\n",
       "        307.39752, 324.47516, 341.5528 , 358.63044, 375.70808, 392.78572,\n",
       "        409.86336, 426.941  , 444.01864, 461.09628, 478.17392, 495.25156,\n",
       "        512.3292 ]),\n",
       " <BarContainer object of 30 artists>)"
      ]
     },
     "execution_count": 48,
     "metadata": {},
     "output_type": "execute_result"
    },
    {
     "data": {
      "image/png": "[encoded data removed]",
      "text/plain": [
       "<Figure size 432x288 with 1 Axes>"
      ]
     },
     "metadata": {
      "needs_background": "light"
     },
     "output_type": "display_data"
    }
   ],
   "source": [
    "plt.hist(df['fare'], bins=30)"
   ]
  },
  {
   "cell_type": "markdown",
   "id": "ed9feb76",
   "metadata": {},
   "source": [
    "### Min Max Scaling:\n",
    "1. Works well with CNN in Deep Learning\n",
    "2. Min Max Scaling scales the values between 0 to 1\n",
    "\n",
    "### Formula:\n",
    "X_scaled = X - X.min / (X.max - Xmin)"
   ]
  },
  {
   "cell_type": "code",
   "execution_count": 50,
   "id": "2689a83d",
   "metadata": {},
   "outputs": [],
   "source": [
    "from sklearn.preprocessing import MinMaxScaler\n",
    "min_max = MinMaxScaler()"
   ]
  },
  {
   "cell_type": "code",
   "execution_count": 51,
   "id": "5732885c",
   "metadata": {},
   "outputs": [
    {
     "data": {
      "text/html": [
       "<div>\n",
       "<style scoped>\n",
       "    .dataframe tbody tr th:only-of-type {\n",
       "        vertical-align: middle;\n",
       "    }\n",
       "\n",
       "    .dataframe tbody tr th {\n",
       "        vertical-align: top;\n",
       "    }\n",
       "\n",
       "    .dataframe thead th {\n",
       "        text-align: right;\n",
       "    }\n",
       "</style>\n",
       "<table border=\"1\" class=\"dataframe\">\n",
       "  <thead>\n",
       "    <tr style=\"text-align: right;\">\n",
       "      <th></th>\n",
       "      <th>pclass</th>\n",
       "      <th>age</th>\n",
       "      <th>fare</th>\n",
       "      <th>survived</th>\n",
       "    </tr>\n",
       "  </thead>\n",
       "  <tbody>\n",
       "    <tr>\n",
       "      <th>0</th>\n",
       "      <td>1.0</td>\n",
       "      <td>0.348643</td>\n",
       "      <td>0.015094</td>\n",
       "      <td>1.0</td>\n",
       "    </tr>\n",
       "    <tr>\n",
       "      <th>1</th>\n",
       "      <td>1.0</td>\n",
       "      <td>0.473904</td>\n",
       "      <td>0.016908</td>\n",
       "      <td>0.0</td>\n",
       "    </tr>\n",
       "    <tr>\n",
       "      <th>2</th>\n",
       "      <td>1.0</td>\n",
       "      <td>0.373695</td>\n",
       "      <td>0.047138</td>\n",
       "      <td>0.0</td>\n",
       "    </tr>\n",
       "    <tr>\n",
       "      <th>3</th>\n",
       "      <td>0.5</td>\n",
       "      <td>0.674321</td>\n",
       "      <td>0.044893</td>\n",
       "      <td>1.0</td>\n",
       "    </tr>\n",
       "    <tr>\n",
       "      <th>4</th>\n",
       "      <td>0.5</td>\n",
       "      <td>0.498956</td>\n",
       "      <td>0.025374</td>\n",
       "      <td>0.0</td>\n",
       "    </tr>\n",
       "  </tbody>\n",
       "</table>\n",
       "</div>"
      ],
      "text/plain": [
       "   pclass       age      fare  survived\n",
       "0     1.0  0.348643  0.015094       1.0\n",
       "1     1.0  0.473904  0.016908       0.0\n",
       "2     1.0  0.373695  0.047138       0.0\n",
       "3     0.5  0.674321  0.044893       1.0\n",
       "4     0.5  0.498956  0.025374       0.0"
      ]
     },
     "execution_count": 51,
     "metadata": {},
     "output_type": "execute_result"
    }
   ],
   "source": [
    "df_minmax = pd.DataFrame(min_max.fit_transform(df), columns=df.columns)\n",
    "df_minmax.head()"
   ]
  },
  {
   "cell_type": "code",
   "execution_count": 52,
   "id": "7b05a16c",
   "metadata": {},
   "outputs": [
    {
     "data": {
      "text/plain": [
       "(array([206.,   0.,   0.,   0.,   0., 166.,   0.,   0.,   0., 478.]),\n",
       " array([0. , 0.1, 0.2, 0.3, 0.4, 0.5, 0.6, 0.7, 0.8, 0.9, 1. ]),\n",
       " <BarContainer object of 10 artists>)"
      ]
     },
     "execution_count": 52,
     "metadata": {},
     "output_type": "execute_result"
    },
    {
     "data": {
      "image/png": "[encoded data removed]",
      "text/plain": [
       "<Figure size 432x288 with 1 Axes>"
      ]
     },
     "metadata": {
      "needs_background": "light"
     },
     "output_type": "display_data"
    }
   ],
   "source": [
    "plt.hist(df_minmax['pclass'])"
   ]
  },
  {
   "cell_type": "code",
   "execution_count": 53,
   "id": "e52fe2b6",
   "metadata": {},
   "outputs": [
    {
     "data": {
      "text/plain": [
       "(array([ 35.,  14.,  16.,  27.,  81.,  96., 258.,  86.,  65.,  35.,  23.,\n",
       "         31.,  28.,  20.,  15.,  12.,   3.,   2.,   2.,   1.]),\n",
       " array([0.  , 0.05, 0.1 , 0.15, 0.2 , 0.25, 0.3 , 0.35, 0.4 , 0.45, 0.5 ,\n",
       "        0.55, 0.6 , 0.65, 0.7 , 0.75, 0.8 , 0.85, 0.9 , 0.95, 1.  ]),\n",
       " <BarContainer object of 20 artists>)"
      ]
     },
     "execution_count": 53,
     "metadata": {},
     "output_type": "execute_result"
    },
    {
     "data": {
      "image/png": "[encoded data removed]",
      "text/plain": [
       "<Figure size 432x288 with 1 Axes>"
      ]
     },
     "metadata": {
      "needs_background": "light"
     },
     "output_type": "display_data"
    }
   ],
   "source": [
    "plt.hist(df_minmax['age'], bins=20)"
   ]
  },
  {
   "cell_type": "code",
   "execution_count": 54,
   "id": "08009af3",
   "metadata": {},
   "outputs": [
    {
     "data": {
      "text/plain": [
       "(array([544., 144.,  71.,  34.,  13.,  14.,   3.,   0.,  14.,   1.,   9.,\n",
       "          0.,   0.,   0.,   0.,   0.,   0.,   0.,   0.,   3.]),\n",
       " array([0.  , 0.05, 0.1 , 0.15, 0.2 , 0.25, 0.3 , 0.35, 0.4 , 0.45, 0.5 ,\n",
       "        0.55, 0.6 , 0.65, 0.7 , 0.75, 0.8 , 0.85, 0.9 , 0.95, 1.  ]),\n",
       " <BarContainer object of 20 artists>)"
      ]
     },
     "execution_count": 54,
     "metadata": {},
     "output_type": "execute_result"
    },
    {
     "data": {
      "image/png": "[encoded data removed]",
      "text/plain": [
       "<Figure size 432x288 with 1 Axes>"
      ]
     },
     "metadata": {
      "needs_background": "light"
     },
     "output_type": "display_data"
    }
   ],
   "source": [
    "plt.hist(df_minmax['fare'], bins=20)"
   ]
  },
  {
   "cell_type": "markdown",
   "id": "de204e6c",
   "metadata": {},
   "source": [
    "### Robust Scaler:\n",
    "1. It is used to scale the features to Median and Quantiles\n",
    "2. Scaling using median and quantiles consists of subtracting the median to all the observations, and then dividing by the interquantile difference. The interquantile difference is the difference between the 75th and 25th quantile\n",
    "\n",
    "IQR = 75th quantile - 25th quantile\n",
    "\n",
    "X_scaled = (X-X.median) / IQR"
   ]
  },
  {
   "cell_type": "code",
   "execution_count": 58,
   "id": "d029b4f1",
   "metadata": {},
   "outputs": [],
   "source": [
    "from sklearn.preprocessing import RobustScaler\n",
    "scaler = RobustScaler()"
   ]
  },
  {
   "cell_type": "code",
   "execution_count": 59,
   "id": "33a92e71",
   "metadata": {},
   "outputs": [
    {
     "data": {
      "text/html": [
       "<div>\n",
       "<style scoped>\n",
       "    .dataframe tbody tr th:only-of-type {\n",
       "        vertical-align: middle;\n",
       "    }\n",
       "\n",
       "    .dataframe tbody tr th {\n",
       "        vertical-align: top;\n",
       "    }\n",
       "\n",
       "    .dataframe thead th {\n",
       "        text-align: right;\n",
       "    }\n",
       "</style>\n",
       "<table border=\"1\" class=\"dataframe\">\n",
       "  <thead>\n",
       "    <tr style=\"text-align: right;\">\n",
       "      <th></th>\n",
       "      <th>pclass</th>\n",
       "      <th>age</th>\n",
       "      <th>fare</th>\n",
       "      <th>survived</th>\n",
       "    </tr>\n",
       "  </thead>\n",
       "  <tbody>\n",
       "    <tr>\n",
       "      <th>0</th>\n",
       "      <td>0.0</td>\n",
       "      <td>0.000000</td>\n",
       "      <td>-0.274484</td>\n",
       "      <td>1.0</td>\n",
       "    </tr>\n",
       "    <tr>\n",
       "      <th>1</th>\n",
       "      <td>0.0</td>\n",
       "      <td>0.776699</td>\n",
       "      <td>-0.234133</td>\n",
       "      <td>0.0</td>\n",
       "    </tr>\n",
       "    <tr>\n",
       "      <th>2</th>\n",
       "      <td>0.0</td>\n",
       "      <td>0.155340</td>\n",
       "      <td>0.438413</td>\n",
       "      <td>0.0</td>\n",
       "    </tr>\n",
       "    <tr>\n",
       "      <th>3</th>\n",
       "      <td>-1.0</td>\n",
       "      <td>2.019417</td>\n",
       "      <td>0.388475</td>\n",
       "      <td>1.0</td>\n",
       "    </tr>\n",
       "    <tr>\n",
       "      <th>4</th>\n",
       "      <td>-1.0</td>\n",
       "      <td>0.932039</td>\n",
       "      <td>-0.045777</td>\n",
       "      <td>0.0</td>\n",
       "    </tr>\n",
       "  </tbody>\n",
       "</table>\n",
       "</div>"
      ],
      "text/plain": [
       "   pclass       age      fare  survived\n",
       "0     0.0  0.000000 -0.274484       1.0\n",
       "1     0.0  0.776699 -0.234133       0.0\n",
       "2     0.0  0.155340  0.438413       0.0\n",
       "3    -1.0  2.019417  0.388475       1.0\n",
       "4    -1.0  0.932039 -0.045777       0.0"
      ]
     },
     "execution_count": 59,
     "metadata": {},
     "output_type": "execute_result"
    }
   ],
   "source": [
    "df_robust_scaler = pd.DataFrame(scaler.fit_transform(df), columns=df.columns)\n",
    "df_robust_scaler.head()"
   ]
  },
  {
   "cell_type": "code",
   "execution_count": 60,
   "id": "26768d1b",
   "metadata": {},
   "outputs": [
    {
     "data": {
      "text/plain": [
       "(array([206.,   0.,   0.,   0.,   0.,   0.,   0.,   0.,   0.,   0., 166.,\n",
       "          0.,   0.,   0.,   0.,   0.,   0.,   0.,   0., 478.]),\n",
       " array([-2. , -1.9, -1.8, -1.7, -1.6, -1.5, -1.4, -1.3, -1.2, -1.1, -1. ,\n",
       "        -0.9, -0.8, -0.7, -0.6, -0.5, -0.4, -0.3, -0.2, -0.1,  0. ]),\n",
       " <BarContainer object of 20 artists>)"
      ]
     },
     "execution_count": 60,
     "metadata": {},
     "output_type": "execute_result"
    },
    {
     "data": {
      "image/png": "[encoded data removed]",
      "text/plain": [
       "<Figure size 432x288 with 1 Axes>"
      ]
     },
     "metadata": {
      "needs_background": "light"
     },
     "output_type": "display_data"
    }
   ],
   "source": [
    "plt.hist(df_robust_scaler['pclass'], bins=20)"
   ]
  },
  {
   "cell_type": "code",
   "execution_count": 61,
   "id": "c7906971",
   "metadata": {
    "scrolled": true
   },
   "outputs": [
    {
     "data": {
      "text/plain": [
       "(array([ 35.,  14.,  16.,  27.,  81.,  96., 258.,  86.,  65.,  35.,  23.,\n",
       "         31.,  28.,  20.,  15.,  12.,   3.,   2.,   2.,   1.]),\n",
       " array([-2.16180971, -1.85177748, -1.54174524, -1.23171301, -0.92168078,\n",
       "        -0.61164854, -0.30161631,  0.00841592,  0.31844816,  0.62848039,\n",
       "         0.93851262,  1.24854485,  1.55857709,  1.86860932,  2.17864155,\n",
       "         2.48867379,  2.79870602,  3.10873825,  3.41877049,  3.72880272,\n",
       "         4.03883495]),\n",
       " <BarContainer object of 20 artists>)"
      ]
     },
     "execution_count": 61,
     "metadata": {},
     "output_type": "execute_result"
    },
    {
     "data": {
      "image/png": "[encoded data removed]",
      "text/plain": [
       "<Figure size 432x288 with 1 Axes>"
      ]
     },
     "metadata": {
      "needs_background": "light"
     },
     "output_type": "display_data"
    }
   ],
   "source": [
    "plt.hist(df_robust_scaler['age'], bins=20)"
   ]
  },
  {
   "cell_type": "code",
   "execution_count": 62,
   "id": "0d630378",
   "metadata": {
    "scrolled": true
   },
   "outputs": [
    {
     "data": {
      "text/plain": [
       "(array([544., 144.,  71.,  34.,  13.,  14.,   3.,   0.,  14.,   1.,   9.,\n",
       "          0.,   0.,   0.,   0.,   0.,   0.,   0.,   0.,   3.]),\n",
       " array([-0.61030304,  0.50209461,  1.61449226,  2.72688992,  3.83928757,\n",
       "         4.95168522,  6.06408287,  7.17648052,  8.28887818,  9.40127583,\n",
       "        10.51367348, 11.62607113, 12.73846879, 13.85086644, 14.96326409,\n",
       "        16.07566174, 17.1880594 , 18.30045705, 19.4128547 , 20.52525235,\n",
       "        21.63765001]),\n",
       " <BarContainer object of 20 artists>)"
      ]
     },
     "execution_count": 62,
     "metadata": {},
     "output_type": "execute_result"
    },
    {
     "data": {
      "image/png": "[encoded data removed]",
      "text/plain": [
       "<Figure size 432x288 with 1 Axes>"
      ]
     },
     "metadata": {
      "needs_background": "light"
     },
     "output_type": "display_data"
    }
   ],
   "source": [
    "plt.hist(df_robust_scaler['fare'], bins=20)"
   ]
  },
  {
   "cell_type": "markdown",
   "id": "e32204e7",
   "metadata": {},
   "source": [
    "## Guassian Transformation\n",
    "\n",
    "Some ML algorithms like linear and logistic regression assume that the features are normally distributed. If the features are normally distributed it will provide good accuracy and performance\n",
    "\n",
    "      A.Logarithmic Transformation\n",
    "      B.Reciprocal Transformation\n",
    "      C.Square Root Transformation\n",
    "      D.Exponential Transformation\n",
    "      E.Box Cox Transformation"
   ]
  },
  {
   "cell_type": "code",
   "execution_count": 63,
   "id": "79b66fa8",
   "metadata": {},
   "outputs": [
    {
     "data": {
      "text/html": [
       "<div>\n",
       "<style scoped>\n",
       "    .dataframe tbody tr th:only-of-type {\n",
       "        vertical-align: middle;\n",
       "    }\n",
       "\n",
       "    .dataframe tbody tr th {\n",
       "        vertical-align: top;\n",
       "    }\n",
       "\n",
       "    .dataframe thead th {\n",
       "        text-align: right;\n",
       "    }\n",
       "</style>\n",
       "<table border=\"1\" class=\"dataframe\">\n",
       "  <thead>\n",
       "    <tr style=\"text-align: right;\">\n",
       "      <th></th>\n",
       "      <th>age</th>\n",
       "      <th>fare</th>\n",
       "      <th>survived</th>\n",
       "    </tr>\n",
       "  </thead>\n",
       "  <tbody>\n",
       "    <tr>\n",
       "      <th>0</th>\n",
       "      <td>NaN</td>\n",
       "      <td>7.7333</td>\n",
       "      <td>1</td>\n",
       "    </tr>\n",
       "    <tr>\n",
       "      <th>1</th>\n",
       "      <td>38.0</td>\n",
       "      <td>8.6625</td>\n",
       "      <td>0</td>\n",
       "    </tr>\n",
       "    <tr>\n",
       "      <th>2</th>\n",
       "      <td>30.0</td>\n",
       "      <td>24.1500</td>\n",
       "      <td>0</td>\n",
       "    </tr>\n",
       "    <tr>\n",
       "      <th>3</th>\n",
       "      <td>54.0</td>\n",
       "      <td>23.0000</td>\n",
       "      <td>1</td>\n",
       "    </tr>\n",
       "    <tr>\n",
       "      <th>4</th>\n",
       "      <td>40.0</td>\n",
       "      <td>13.0000</td>\n",
       "      <td>0</td>\n",
       "    </tr>\n",
       "  </tbody>\n",
       "</table>\n",
       "</div>"
      ],
      "text/plain": [
       "    age     fare  survived\n",
       "0   NaN   7.7333         1\n",
       "1  38.0   8.6625         0\n",
       "2  30.0  24.1500         0\n",
       "3  54.0  23.0000         1\n",
       "4  40.0  13.0000         0"
      ]
     },
     "execution_count": 63,
     "metadata": {},
     "output_type": "execute_result"
    }
   ],
   "source": [
    "df = pd.read_csv('../CSV Files/titanic_train.csv', usecols=['age', 'fare', 'survived'])\n",
    "df.head()"
   ]
  },
  {
   "cell_type": "code",
   "execution_count": 64,
   "id": "f8208682",
   "metadata": {},
   "outputs": [],
   "source": [
    "df.age.fillna(df.age.median(), inplace=True)"
   ]
  },
  {
   "cell_type": "code",
   "execution_count": 65,
   "id": "21a9d7ec",
   "metadata": {},
   "outputs": [
    {
     "data": {
      "text/html": [
       "<div>\n",
       "<style scoped>\n",
       "    .dataframe tbody tr th:only-of-type {\n",
       "        vertical-align: middle;\n",
       "    }\n",
       "\n",
       "    .dataframe tbody tr th {\n",
       "        vertical-align: top;\n",
       "    }\n",
       "\n",
       "    .dataframe thead th {\n",
       "        text-align: right;\n",
       "    }\n",
       "</style>\n",
       "<table border=\"1\" class=\"dataframe\">\n",
       "  <thead>\n",
       "    <tr style=\"text-align: right;\">\n",
       "      <th></th>\n",
       "      <th>age</th>\n",
       "      <th>fare</th>\n",
       "      <th>survived</th>\n",
       "    </tr>\n",
       "  </thead>\n",
       "  <tbody>\n",
       "    <tr>\n",
       "      <th>0</th>\n",
       "      <td>28.0</td>\n",
       "      <td>7.7333</td>\n",
       "      <td>1</td>\n",
       "    </tr>\n",
       "    <tr>\n",
       "      <th>1</th>\n",
       "      <td>38.0</td>\n",
       "      <td>8.6625</td>\n",
       "      <td>0</td>\n",
       "    </tr>\n",
       "    <tr>\n",
       "      <th>2</th>\n",
       "      <td>30.0</td>\n",
       "      <td>24.1500</td>\n",
       "      <td>0</td>\n",
       "    </tr>\n",
       "    <tr>\n",
       "      <th>3</th>\n",
       "      <td>54.0</td>\n",
       "      <td>23.0000</td>\n",
       "      <td>1</td>\n",
       "    </tr>\n",
       "    <tr>\n",
       "      <th>4</th>\n",
       "      <td>40.0</td>\n",
       "      <td>13.0000</td>\n",
       "      <td>0</td>\n",
       "    </tr>\n",
       "  </tbody>\n",
       "</table>\n",
       "</div>"
      ],
      "text/plain": [
       "    age     fare  survived\n",
       "0  28.0   7.7333         1\n",
       "1  38.0   8.6625         0\n",
       "2  30.0  24.1500         0\n",
       "3  54.0  23.0000         1\n",
       "4  40.0  13.0000         0"
      ]
     },
     "execution_count": 65,
     "metadata": {},
     "output_type": "execute_result"
    }
   ],
   "source": [
    "df.head()"
   ]
  },
  {
   "cell_type": "code",
   "execution_count": 66,
   "id": "ff45727f",
   "metadata": {},
   "outputs": [],
   "source": [
    "df.fare.fillna(13.0000, inplace=True)"
   ]
  },
  {
   "cell_type": "code",
   "execution_count": 67,
   "id": "ed0f64ab",
   "metadata": {},
   "outputs": [
    {
     "data": {
      "text/plain": [
       "age         0\n",
       "fare        0\n",
       "survived    0\n",
       "dtype: int64"
      ]
     },
     "execution_count": 67,
     "metadata": {},
     "output_type": "execute_result"
    }
   ],
   "source": [
    "df.isnull().sum()"
   ]
  },
  {
   "cell_type": "markdown",
   "id": "ca436814",
   "metadata": {},
   "source": [
    "### If we want to check whether the feature is Guassian or Normal Distributed, We can go with Q-Q plot"
   ]
  },
  {
   "cell_type": "code",
   "execution_count": 69,
   "id": "0a1de89a",
   "metadata": {},
   "outputs": [],
   "source": [
    "import scipy.stats as stat\n",
    "import pylab"
   ]
  },
  {
   "cell_type": "code",
   "execution_count": 70,
   "id": "5af376b7",
   "metadata": {},
   "outputs": [],
   "source": [
    "def plot_data(df, feature):\n",
    "    plt.figure(figsize=(10,6))\n",
    "    plt.subplot(1,2,1)\n",
    "    df[feature].hist()\n",
    "    plt.subplot(1,2,2)\n",
    "    stat.probplot(df[feature], dist='norm', plot=pylab)\n",
    "    plt.show()"
   ]
  },
  {
   "cell_type": "code",
   "execution_count": 71,
   "id": "8f35f1e3",
   "metadata": {},
   "outputs": [
    {
     "data": {
      "image/png": "[encoded data removed]",
      "text/plain": [
       "<Figure size 720x432 with 2 Axes>"
      ]
     },
     "metadata": {
      "needs_background": "light"
     },
     "output_type": "display_data"
    }
   ],
   "source": [
    "plot_data(df, 'age')"
   ]
  },
  {
   "cell_type": "markdown",
   "id": "94ffba22",
   "metadata": {},
   "source": [
    "### A. Logarithmic Transformation\n",
    "1. It Works well with right skewed or left skewed distribution to change it to Normal or Gaussian distribution"
   ]
  },
  {
   "cell_type": "code",
   "execution_count": 72,
   "id": "c8fd5958",
   "metadata": {},
   "outputs": [
    {
     "data": {
      "image/png": "[encoded data removed]",
      "text/plain": [
       "<Figure size 720x432 with 2 Axes>"
      ]
     },
     "metadata": {
      "needs_background": "light"
     },
     "output_type": "display_data"
    }
   ],
   "source": [
    "df['age_log'] = np.log(df['age'])\n",
    "plot_data(df, 'age_log')"
   ]
  },
  {
   "cell_type": "markdown",
   "id": "a03a57ca",
   "metadata": {},
   "source": [
    "### B.Reciprocal Transformation"
   ]
  },
  {
   "cell_type": "code",
   "execution_count": 75,
   "id": "5a38bd20",
   "metadata": {},
   "outputs": [
    {
     "data": {
      "image/png": "[encoded data removed]",
      "text/plain": [
       "<Figure size 720x432 with 2 Axes>"
      ]
     },
     "metadata": {
      "needs_background": "light"
     },
     "output_type": "display_data"
    }
   ],
   "source": [
    "df['age_reciprocal'] = 1/df.age\n",
    "plot_data(df, 'age_reciprocal')"
   ]
  },
  {
   "cell_type": "markdown",
   "id": "54ea0ec4",
   "metadata": {},
   "source": [
    "### C.Square Root Transformation"
   ]
  },
  {
   "cell_type": "code",
   "execution_count": 77,
   "id": "7edd064f",
   "metadata": {},
   "outputs": [
    {
     "data": {
      "text/plain": [
       "2.0"
      ]
     },
     "execution_count": 77,
     "metadata": {},
     "output_type": "execute_result"
    }
   ],
   "source": [
    "np.sqrt(4)"
   ]
  },
  {
   "cell_type": "code",
   "execution_count": 79,
   "id": "08d6698f",
   "metadata": {},
   "outputs": [
    {
     "data": {
      "image/png": "[encoded data removed]",
      "text/plain": [
       "<Figure size 720x432 with 2 Axes>"
      ]
     },
     "metadata": {
      "needs_background": "light"
     },
     "output_type": "display_data"
    }
   ],
   "source": [
    "df['age_square'] = np.sqrt(df.age)\n",
    "plot_data(df, 'age_square')"
   ]
  },
  {
   "cell_type": "markdown",
   "id": "7932e118",
   "metadata": {},
   "source": [
    "### D.Exponential Transformation"
   ]
  },
  {
   "cell_type": "code",
   "execution_count": 84,
   "id": "b317e1a3",
   "metadata": {},
   "outputs": [
    {
     "data": {
      "image/png": "[encoded data removed]",
      "text/plain": [
       "<Figure size 720x432 with 2 Axes>"
      ]
     },
     "metadata": {
      "needs_background": "light"
     },
     "output_type": "display_data"
    }
   ],
   "source": [
    "df['age_exponential'] = df.age ** (1/1.2)\n",
    "plot_data(df, 'age_exponential')"
   ]
  },
  {
   "cell_type": "markdown",
   "id": "c59d383c",
   "metadata": {},
   "source": [
    "### E. Box Cox Transformation\n",
    "\n",
    "#### Formula:\n",
    "\n",
    "T(Y) = (Y exp(λ)-1) / λ\n",
    "\n",
    "where Y is the response variable and λ is the transformation parameter. λ varies from -5 to 5. In the transformation, all values of λ are considered and the optimal value for a given variable is selected"
   ]
  },
  {
   "cell_type": "code",
   "execution_count": 88,
   "id": "cb009ef1",
   "metadata": {},
   "outputs": [],
   "source": [
    "df['age_boxcox'], parameters = stat.boxcox(df.age)"
   ]
  },
  {
   "cell_type": "code",
   "execution_count": 89,
   "id": "2ae2900a",
   "metadata": {},
   "outputs": [
    {
     "data": {
      "text/plain": [
       "0.7706329165332146"
      ]
     },
     "execution_count": 89,
     "metadata": {},
     "output_type": "execute_result"
    }
   ],
   "source": [
    "parameters"
   ]
  },
  {
   "cell_type": "code",
   "execution_count": 90,
   "id": "5cb02ff2",
   "metadata": {},
   "outputs": [
    {
     "data": {
      "image/png": "[encoded data removed]",
      "text/plain": [
       "<Figure size 720x432 with 2 Axes>"
      ]
     },
     "metadata": {
      "needs_background": "light"
     },
     "output_type": "display_data"
    }
   ],
   "source": [
    "plot_data(df, 'age_boxcox')"
   ]
  },
  {
   "cell_type": "code",
   "execution_count": 92,
   "id": "c274fe49",
   "metadata": {},
   "outputs": [
    {
     "data": {
      "image/png": "[encoded data removed]",
      "text/plain": [
       "<Figure size 720x432 with 2 Axes>"
      ]
     },
     "metadata": {
      "needs_background": "light"
     },
     "output_type": "display_data"
    }
   ],
   "source": [
    "plot_data(df, 'fare')"
   ]
  },
  {
   "cell_type": "markdown",
   "id": "0a893969",
   "metadata": {},
   "source": [
    "### Logarithmic Fare_log Plot"
   ]
  },
  {
   "cell_type": "code",
   "execution_count": 91,
   "id": "958f9347",
   "metadata": {},
   "outputs": [
    {
     "data": {
      "image/png": "[encoded data removed]",
      "text/plain": [
       "<Figure size 720x432 with 2 Axes>"
      ]
     },
     "metadata": {
      "needs_background": "light"
     },
     "output_type": "display_data"
    }
   ],
   "source": [
    "df['fare_log'] = np.log1p(df['fare'])\n",
    "plot_data(df, 'fare_log')"
   ]
  },
  {
   "cell_type": "markdown",
   "id": "6f20bb25",
   "metadata": {},
   "source": [
    "## Box Cox Plot for Fare Column"
   ]
  },
  {
   "cell_type": "code",
   "execution_count": 94,
   "id": "0db1ae50",
   "metadata": {},
   "outputs": [],
   "source": [
    "df['fare_boxcox'], parameters = stat.boxcox(df.fare + 1)"
   ]
  },
  {
   "cell_type": "code",
   "execution_count": 95,
   "id": "afb1df99",
   "metadata": {},
   "outputs": [
    {
     "data": {
      "image/png": "[encoded data removed]",
      "text/plain": [
       "<Figure size 720x432 with 2 Axes>"
      ]
     },
     "metadata": {
      "needs_background": "light"
     },
     "output_type": "display_data"
    }
   ],
   "source": [
    "plot_data(df, 'fare_boxcox')"
   ]
  }
 ],
 "metadata": {
  "kernelspec": {
   "display_name": "Python 3",
   "language": "python",
   "name": "python3"
  },
  "language_info": {
   "codemirror_mode": {
    "name": "ipython",
    "version": 3
   },
   "file_extension": ".py",
   "mimetype": "text/x-python",
   "name": "python",
   "nbconvert_exporter": "python",
   "pygments_lexer": "ipython3",
   "version": "3.8.8"
  }
 },
 "nbformat": 4,
 "nbformat_minor": 5
}
